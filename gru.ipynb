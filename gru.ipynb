{
 "cells": [
  {
   "cell_type": "code",
   "execution_count": 1,
   "metadata": {},
   "outputs": [],
   "source": [
    "import yfinance as yf"
   ]
  },
  {
   "cell_type": "code",
   "execution_count": 2,
   "metadata": {},
   "outputs": [
    {
     "name": "stderr",
     "output_type": "stream",
     "text": [
      "[*********************100%%**********************]  1 of 1 completed\n"
     ]
    },
    {
     "data": {
      "text/html": [
       "<div>\n",
       "<style scoped>\n",
       "    .dataframe tbody tr th:only-of-type {\n",
       "        vertical-align: middle;\n",
       "    }\n",
       "\n",
       "    .dataframe tbody tr th {\n",
       "        vertical-align: top;\n",
       "    }\n",
       "\n",
       "    .dataframe thead th {\n",
       "        text-align: right;\n",
       "    }\n",
       "</style>\n",
       "<table border=\"1\" class=\"dataframe\">\n",
       "  <thead>\n",
       "    <tr style=\"text-align: right;\">\n",
       "      <th></th>\n",
       "      <th>Open</th>\n",
       "      <th>High</th>\n",
       "      <th>Low</th>\n",
       "      <th>Close</th>\n",
       "      <th>Adj Close</th>\n",
       "      <th>Volume</th>\n",
       "    </tr>\n",
       "    <tr>\n",
       "      <th>Date</th>\n",
       "      <th></th>\n",
       "      <th></th>\n",
       "      <th></th>\n",
       "      <th></th>\n",
       "      <th></th>\n",
       "      <th></th>\n",
       "    </tr>\n",
       "  </thead>\n",
       "  <tbody>\n",
       "    <tr>\n",
       "      <th>2010-01-04</th>\n",
       "      <td>7.622500</td>\n",
       "      <td>7.660714</td>\n",
       "      <td>7.585000</td>\n",
       "      <td>7.643214</td>\n",
       "      <td>6.470742</td>\n",
       "      <td>493729600</td>\n",
       "    </tr>\n",
       "    <tr>\n",
       "      <th>2010-01-05</th>\n",
       "      <td>7.664286</td>\n",
       "      <td>7.699643</td>\n",
       "      <td>7.616071</td>\n",
       "      <td>7.656429</td>\n",
       "      <td>6.481931</td>\n",
       "      <td>601904800</td>\n",
       "    </tr>\n",
       "    <tr>\n",
       "      <th>2010-01-06</th>\n",
       "      <td>7.656429</td>\n",
       "      <td>7.686786</td>\n",
       "      <td>7.526786</td>\n",
       "      <td>7.534643</td>\n",
       "      <td>6.378825</td>\n",
       "      <td>552160000</td>\n",
       "    </tr>\n",
       "    <tr>\n",
       "      <th>2010-01-07</th>\n",
       "      <td>7.562500</td>\n",
       "      <td>7.571429</td>\n",
       "      <td>7.466071</td>\n",
       "      <td>7.520714</td>\n",
       "      <td>6.367032</td>\n",
       "      <td>477131200</td>\n",
       "    </tr>\n",
       "    <tr>\n",
       "      <th>2010-01-08</th>\n",
       "      <td>7.510714</td>\n",
       "      <td>7.571429</td>\n",
       "      <td>7.466429</td>\n",
       "      <td>7.570714</td>\n",
       "      <td>6.409364</td>\n",
       "      <td>447610800</td>\n",
       "    </tr>\n",
       "    <tr>\n",
       "      <th>...</th>\n",
       "      <td>...</td>\n",
       "      <td>...</td>\n",
       "      <td>...</td>\n",
       "      <td>...</td>\n",
       "      <td>...</td>\n",
       "      <td>...</td>\n",
       "    </tr>\n",
       "    <tr>\n",
       "      <th>2024-04-01</th>\n",
       "      <td>171.190002</td>\n",
       "      <td>171.250000</td>\n",
       "      <td>169.479996</td>\n",
       "      <td>170.029999</td>\n",
       "      <td>170.029999</td>\n",
       "      <td>46240500</td>\n",
       "    </tr>\n",
       "    <tr>\n",
       "      <th>2024-04-02</th>\n",
       "      <td>169.080002</td>\n",
       "      <td>169.339996</td>\n",
       "      <td>168.229996</td>\n",
       "      <td>168.839996</td>\n",
       "      <td>168.839996</td>\n",
       "      <td>49329500</td>\n",
       "    </tr>\n",
       "    <tr>\n",
       "      <th>2024-04-03</th>\n",
       "      <td>168.789993</td>\n",
       "      <td>170.679993</td>\n",
       "      <td>168.580002</td>\n",
       "      <td>169.649994</td>\n",
       "      <td>169.649994</td>\n",
       "      <td>47691700</td>\n",
       "    </tr>\n",
       "    <tr>\n",
       "      <th>2024-04-04</th>\n",
       "      <td>170.289993</td>\n",
       "      <td>171.919998</td>\n",
       "      <td>168.820007</td>\n",
       "      <td>168.820007</td>\n",
       "      <td>168.820007</td>\n",
       "      <td>53704400</td>\n",
       "    </tr>\n",
       "    <tr>\n",
       "      <th>2024-04-05</th>\n",
       "      <td>169.589996</td>\n",
       "      <td>170.389999</td>\n",
       "      <td>168.949997</td>\n",
       "      <td>169.580002</td>\n",
       "      <td>169.580002</td>\n",
       "      <td>42055200</td>\n",
       "    </tr>\n",
       "  </tbody>\n",
       "</table>\n",
       "<p>3588 rows × 6 columns</p>\n",
       "</div>"
      ],
      "text/plain": [
       "                  Open        High         Low       Close   Adj Close  \\\n",
       "Date                                                                     \n",
       "2010-01-04    7.622500    7.660714    7.585000    7.643214    6.470742   \n",
       "2010-01-05    7.664286    7.699643    7.616071    7.656429    6.481931   \n",
       "2010-01-06    7.656429    7.686786    7.526786    7.534643    6.378825   \n",
       "2010-01-07    7.562500    7.571429    7.466071    7.520714    6.367032   \n",
       "2010-01-08    7.510714    7.571429    7.466429    7.570714    6.409364   \n",
       "...                ...         ...         ...         ...         ...   \n",
       "2024-04-01  171.190002  171.250000  169.479996  170.029999  170.029999   \n",
       "2024-04-02  169.080002  169.339996  168.229996  168.839996  168.839996   \n",
       "2024-04-03  168.789993  170.679993  168.580002  169.649994  169.649994   \n",
       "2024-04-04  170.289993  171.919998  168.820007  168.820007  168.820007   \n",
       "2024-04-05  169.589996  170.389999  168.949997  169.580002  169.580002   \n",
       "\n",
       "               Volume  \n",
       "Date                   \n",
       "2010-01-04  493729600  \n",
       "2010-01-05  601904800  \n",
       "2010-01-06  552160000  \n",
       "2010-01-07  477131200  \n",
       "2010-01-08  447610800  \n",
       "...               ...  \n",
       "2024-04-01   46240500  \n",
       "2024-04-02   49329500  \n",
       "2024-04-03   47691700  \n",
       "2024-04-04   53704400  \n",
       "2024-04-05   42055200  \n",
       "\n",
       "[3588 rows x 6 columns]"
      ]
     },
     "execution_count": 2,
     "metadata": {},
     "output_type": "execute_result"
    }
   ],
   "source": [
    "df = yf.download('AAPL', start=\"2010-01-01\")\n",
    "df"
   ]
  },
  {
   "cell_type": "code",
   "execution_count": 3,
   "metadata": {},
   "outputs": [],
   "source": [
    "from sklearn.preprocessing import MinMaxScaler\n",
    "\n",
    "scaler = MinMaxScaler()\n",
    "\n",
    "df_scaled = scaler.fit_transform(df[['Close']])"
   ]
  },
  {
   "cell_type": "code",
   "execution_count": 4,
   "metadata": {},
   "outputs": [
    {
     "data": {
      "text/plain": [
       "array([[0.00410081],\n",
       "       [0.00416991],\n",
       "       [0.00353313],\n",
       "       ...,\n",
       "       [0.85119034],\n",
       "       [0.84685057],\n",
       "       [0.85082437]])"
      ]
     },
     "execution_count": 4,
     "metadata": {},
     "output_type": "execute_result"
    }
   ],
   "source": [
    "df_scaled"
   ]
  },
  {
   "cell_type": "code",
   "execution_count": 5,
   "metadata": {},
   "outputs": [],
   "source": [
    "import numpy as np\n",
    "\n",
    "def train_test_split(data, train_ratio, seq_len):\n",
    "    X = []\n",
    "    y = []\n",
    "    for i in range(seq_len, len(data)):\n",
    "        X.append(data[i-seq_len:i])\n",
    "        y.append(data[i])\n",
    "    split = int(len(data) * train_ratio)\n",
    "    X_train = np.array(X[:split])\n",
    "    X_test = np.array(X[split:])\n",
    "    y_train = np.array(y[:split])\n",
    "    y_test = np.array(y[split:])\n",
    "\n",
    "    return X_train, X_test, y_train, y_test"
   ]
  },
  {
   "cell_type": "code",
   "execution_count": 6,
   "metadata": {},
   "outputs": [],
   "source": [
    "X_train, X_test, y_train, y_test = train_test_split(df_scaled, 0.9, 20)"
   ]
  },
  {
   "cell_type": "code",
   "execution_count": 7,
   "metadata": {},
   "outputs": [
    {
     "name": "stdout",
     "output_type": "stream",
     "text": [
      "X_train shape: (3229, 20, 1)\n",
      "X_test shape: (339, 20, 1)\n",
      "y_train shape: (3229, 1)\n",
      "y_test shape: (339, 1)\n"
     ]
    }
   ],
   "source": [
    "print('X_train shape:', X_train.shape)\n",
    "print('X_test shape:', X_test.shape)\n",
    "print('y_train shape:', y_train.shape)\n",
    "print('y_test shape:', y_test.shape)"
   ]
  },
  {
   "cell_type": "code",
   "execution_count": 8,
   "metadata": {},
   "outputs": [],
   "source": [
    "import torch\n",
    "\n",
    "X_train = torch.from_numpy(X_train).type(torch.Tensor)\n",
    "X_test = torch.from_numpy(X_test).type(torch.Tensor)\n",
    "y_train = torch.from_numpy(y_train).type(torch.Tensor)\n",
    "y_test = torch.from_numpy(y_test).type(torch.Tensor)"
   ]
  },
  {
   "cell_type": "code",
   "execution_count": 9,
   "metadata": {},
   "outputs": [
    {
     "name": "stdout",
     "output_type": "stream",
     "text": [
      "X_train shape: torch.Size([3229, 20, 1])\n",
      "X_test shape: torch.Size([339, 20, 1])\n",
      "y_train shape: torch.Size([3229, 1])\n",
      "y_test shape: torch.Size([339, 1])\n"
     ]
    }
   ],
   "source": [
    "print('X_train shape:', X_train.shape)\n",
    "print('X_test shape:', X_test.shape)\n",
    "print('y_train shape:', y_train.shape)\n",
    "print('y_test shape:', y_test.shape)"
   ]
  },
  {
   "cell_type": "code",
   "execution_count": 10,
   "metadata": {},
   "outputs": [],
   "source": [
    "class GRU(torch.nn.Module):\n",
    "    def __init__(self, input_dim, hidden_dim, num_layers, output_dim):\n",
    "        super(GRU, self).__init__()\n",
    "        self.hidden_dim = hidden_dim\n",
    "        self.num_layers = num_layers\n",
    "        \n",
    "        self.gru = torch.nn.GRU(input_dim, hidden_dim, num_layers, batch_first=True)\n",
    "        self.fc = torch.nn.Linear(hidden_dim, output_dim)\n",
    "\n",
    "    def forward(self, x):\n",
    "        h0 = torch.zeros(self.num_layers, x.size(0), self.hidden_dim).requires_grad_()\n",
    "        out, (hn) = self.gru(x, (h0.detach()))\n",
    "        out = self.fc(out[:, -1, :]) \n",
    "        return out"
   ]
  },
  {
   "cell_type": "code",
   "execution_count": 11,
   "metadata": {},
   "outputs": [],
   "source": [
    "input_dim = 1\n",
    "hidden_dim = 32\n",
    "num_layers = 2\n",
    "output_dim = 1\n",
    "learning_rate = 0.01\n",
    "num_epochs = 200"
   ]
  },
  {
   "cell_type": "code",
   "execution_count": 12,
   "metadata": {},
   "outputs": [],
   "source": [
    "model = GRU(input_dim, hidden_dim, num_layers, output_dim)\n",
    "loss = torch.nn.MSELoss()\n",
    "optimizer = torch.optim.Adam(model.parameters(), lr=learning_rate)"
   ]
  },
  {
   "cell_type": "code",
   "execution_count": 13,
   "metadata": {},
   "outputs": [
    {
     "name": "stdout",
     "output_type": "stream",
     "text": [
      "Epoch 1 - MSE: 0.13680969178676605\n",
      "Epoch 2 - MSE: 0.05497302860021591\n",
      "Epoch 3 - MSE: 0.08152727037668228\n",
      "Epoch 4 - MSE: 0.05130142718553543\n",
      "Epoch 5 - MSE: 0.03743825852870941\n",
      "Epoch 6 - MSE: 0.0410209596157074\n",
      "Epoch 7 - MSE: 0.04050804302096367\n",
      "Epoch 8 - MSE: 0.029402390122413635\n",
      "Epoch 9 - MSE: 0.014852847903966904\n",
      "Epoch 10 - MSE: 0.008942515589296818\n",
      "Epoch 11 - MSE: 0.013417800888419151\n",
      "Epoch 12 - MSE: 0.007972829975187778\n",
      "Epoch 13 - MSE: 0.0013433739077299833\n",
      "Epoch 14 - MSE: 0.009668324142694473\n",
      "Epoch 15 - MSE: 0.011196797713637352\n",
      "Epoch 16 - MSE: 0.003886692225933075\n",
      "Epoch 17 - MSE: 0.0002698100870475173\n",
      "Epoch 18 - MSE: 0.0019244024297222495\n",
      "Epoch 19 - MSE: 0.003951437771320343\n",
      "Epoch 20 - MSE: 0.003885508980602026\n",
      "Epoch 21 - MSE: 0.0029134394135326147\n",
      "Epoch 22 - MSE: 0.002516099950298667\n",
      "Epoch 23 - MSE: 0.0028092002030462027\n",
      "Epoch 24 - MSE: 0.003054247237741947\n",
      "Epoch 25 - MSE: 0.0026106960140168667\n",
      "Epoch 26 - MSE: 0.0014882722171023488\n",
      "Epoch 27 - MSE: 0.0003749692114070058\n",
      "Epoch 28 - MSE: 0.00011933290079468861\n",
      "Epoch 29 - MSE: 0.0008401787490583956\n",
      "Epoch 30 - MSE: 0.0015926443738862872\n",
      "Epoch 31 - MSE: 0.001513392198830843\n",
      "Epoch 32 - MSE: 0.0009348560706712306\n",
      "Epoch 33 - MSE: 0.0006299848901107907\n",
      "Epoch 34 - MSE: 0.0007103554089553654\n",
      "Epoch 35 - MSE: 0.0007729926146566868\n",
      "Epoch 36 - MSE: 0.0005775269237346947\n",
      "Epoch 37 - MSE: 0.0002765452372841537\n",
      "Epoch 38 - MSE: 0.00016385783965233713\n",
      "Epoch 39 - MSE: 0.0003358931571710855\n",
      "Epoch 40 - MSE: 0.0005946735036559403\n",
      "Epoch 41 - MSE: 0.0006699232035316527\n",
      "Epoch 42 - MSE: 0.0005064306897111237\n",
      "Epoch 43 - MSE: 0.00028368670609779656\n",
      "Epoch 44 - MSE: 0.0001839351753005758\n",
      "Epoch 45 - MSE: 0.0002144179306924343\n",
      "Epoch 46 - MSE: 0.0002538537373766303\n",
      "Epoch 47 - MSE: 0.0002175502886530012\n",
      "Epoch 48 - MSE: 0.0001478112826589495\n",
      "Epoch 49 - MSE: 0.00014352404105011374\n",
      "Epoch 50 - MSE: 0.00021903579181525856\n",
      "Epoch 51 - MSE: 0.0002752377768047154\n",
      "Epoch 52 - MSE: 0.0002315711317351088\n",
      "Epoch 53 - MSE: 0.00013189071614760906\n",
      "Epoch 54 - MSE: 7.557491335319355e-05\n",
      "Epoch 55 - MSE: 9.255684562958777e-05\n",
      "Epoch 56 - MSE: 0.000130711225210689\n",
      "Epoch 57 - MSE: 0.00013736990513280034\n",
      "Epoch 58 - MSE: 0.00011595025716815144\n",
      "Epoch 59 - MSE: 0.00010414504504296929\n",
      "Epoch 60 - MSE: 0.00011737916793208569\n",
      "Epoch 61 - MSE: 0.0001301298034377396\n",
      "Epoch 62 - MSE: 0.00011441633978392929\n",
      "Epoch 63 - MSE: 8.004425762919709e-05\n",
      "Epoch 64 - MSE: 6.123358616605401e-05\n",
      "Epoch 65 - MSE: 7.175893551902846e-05\n",
      "Epoch 66 - MSE: 9.115569264395162e-05\n",
      "Epoch 67 - MSE: 9.501919703325257e-05\n",
      "Epoch 68 - MSE: 8.41397704789415e-05\n",
      "Epoch 69 - MSE: 7.644332072231919e-05\n",
      "Epoch 70 - MSE: 7.887418905738741e-05\n",
      "Epoch 71 - MSE: 8.033413905650377e-05\n",
      "Epoch 72 - MSE: 7.219686813186854e-05\n",
      "Epoch 73 - MSE: 6.223826494533569e-05\n",
      "Epoch 74 - MSE: 6.212397420313209e-05\n",
      "Epoch 75 - MSE: 7.041657227091491e-05\n",
      "Epoch 76 - MSE: 7.572643517050892e-05\n",
      "Epoch 77 - MSE: 7.239200203912333e-05\n",
      "Epoch 78 - MSE: 6.607131945202127e-05\n",
      "Epoch 79 - MSE: 6.398309778887779e-05\n",
      "Epoch 80 - MSE: 6.534531712532043e-05\n",
      "Epoch 81 - MSE: 6.481784657808021e-05\n",
      "Epoch 82 - MSE: 6.176600436447188e-05\n",
      "Epoch 83 - MSE: 6.0665897763101384e-05\n",
      "Epoch 84 - MSE: 6.328047311399132e-05\n",
      "Epoch 85 - MSE: 6.574790313607082e-05\n",
      "Epoch 86 - MSE: 6.451673834817484e-05\n",
      "Epoch 87 - MSE: 6.126454536570236e-05\n",
      "Epoch 88 - MSE: 5.979886191198602e-05\n",
      "Epoch 89 - MSE: 6.0590678913285956e-05\n",
      "Epoch 90 - MSE: 6.112142727943137e-05\n",
      "Epoch 91 - MSE: 6.0354410379659384e-05\n",
      "Epoch 92 - MSE: 5.985514144413173e-05\n",
      "Epoch 93 - MSE: 6.0589514760067686e-05\n",
      "Epoch 94 - MSE: 6.123795901658013e-05\n",
      "Epoch 95 - MSE: 6.046535781933926e-05\n",
      "Epoch 96 - MSE: 5.905753278057091e-05\n",
      "Epoch 97 - MSE: 5.861319004907273e-05\n",
      "Epoch 98 - MSE: 5.917974704061635e-05\n",
      "Epoch 99 - MSE: 5.95251694903709e-05\n",
      "Epoch 100 - MSE: 5.920011244597845e-05\n",
      "Epoch 101 - MSE: 5.893032721360214e-05\n",
      "Epoch 102 - MSE: 5.9098179917782545e-05\n",
      "Epoch 103 - MSE: 5.913860513828695e-05\n",
      "Epoch 104 - MSE: 5.866829815204255e-05\n",
      "Epoch 105 - MSE: 5.819215584779158e-05\n",
      "Epoch 106 - MSE: 5.824840263812803e-05\n",
      "Epoch 107 - MSE: 5.856766802025959e-05\n",
      "Epoch 108 - MSE: 5.85950147069525e-05\n",
      "Epoch 109 - MSE: 5.8347228332422674e-05\n",
      "Epoch 110 - MSE: 5.8213030570186675e-05\n",
      "Epoch 111 - MSE: 5.82398715778254e-05\n",
      "Epoch 112 - MSE: 5.8159530453849584e-05\n",
      "Epoch 113 - MSE: 5.79484440095257e-05\n",
      "Epoch 114 - MSE: 5.786801193607971e-05\n",
      "Epoch 115 - MSE: 5.798195343231782e-05\n",
      "Epoch 116 - MSE: 5.80478081246838e-05\n",
      "Epoch 117 - MSE: 5.793157106381841e-05\n",
      "Epoch 118 - MSE: 5.7788660342339426e-05\n",
      "Epoch 119 - MSE: 5.775558020104654e-05\n",
      "Epoch 120 - MSE: 5.775031240773387e-05\n",
      "Epoch 121 - MSE: 5.7680521422298625e-05\n",
      "Epoch 122 - MSE: 5.761530337622389e-05\n",
      "Epoch 123 - MSE: 5.762893852079287e-05\n",
      "Epoch 124 - MSE: 5.765031892224215e-05\n",
      "Epoch 125 - MSE: 5.759215127909556e-05\n",
      "Epoch 126 - MSE: 5.7500179536873475e-05\n",
      "Epoch 127 - MSE: 5.746006718254648e-05\n",
      "Epoch 128 - MSE: 5.7456883951090276e-05\n",
      "Epoch 129 - MSE: 5.742978464695625e-05\n",
      "Epoch 130 - MSE: 5.738668915000744e-05\n",
      "Epoch 131 - MSE: 5.7368710258742794e-05\n",
      "Epoch 132 - MSE: 5.736061939387582e-05\n",
      "Epoch 133 - MSE: 5.732239515054971e-05\n",
      "Epoch 134 - MSE: 5.7267687225248665e-05\n",
      "Epoch 135 - MSE: 5.7237441069446504e-05\n",
      "Epoch 136 - MSE: 5.72284116060473e-05\n",
      "Epoch 137 - MSE: 5.720839908462949e-05\n",
      "Epoch 138 - MSE: 5.7175857364200056e-05\n",
      "Epoch 139 - MSE: 5.715140650863759e-05\n",
      "Epoch 140 - MSE: 5.7132816436933354e-05\n",
      "Epoch 141 - MSE: 5.710358527721837e-05\n",
      "Epoch 142 - MSE: 5.7069057220360264e-05\n",
      "Epoch 143 - MSE: 5.704654540750198e-05\n",
      "Epoch 144 - MSE: 5.703267379431054e-05\n",
      "Epoch 145 - MSE: 5.7011940953088924e-05\n",
      "Epoch 146 - MSE: 5.698456516256556e-05\n",
      "Epoch 147 - MSE: 5.696123844245449e-05\n",
      "Epoch 148 - MSE: 5.694112041965127e-05\n",
      "Epoch 149 - MSE: 5.69172807445284e-05\n",
      "Epoch 150 - MSE: 5.6892578868428245e-05\n",
      "Epoch 151 - MSE: 5.687350858352147e-05\n",
      "Epoch 152 - MSE: 5.685658106813207e-05\n",
      "Epoch 153 - MSE: 5.683532071998343e-05\n",
      "Epoch 154 - MSE: 5.681187394657172e-05\n",
      "Epoch 155 - MSE: 5.679135210812092e-05\n",
      "Epoch 156 - MSE: 5.6772303651086986e-05\n",
      "Epoch 157 - MSE: 5.675170541508123e-05\n",
      "Epoch 158 - MSE: 5.6731474614934996e-05\n",
      "Epoch 159 - MSE: 5.671354665537365e-05\n",
      "Epoch 160 - MSE: 5.6695400417083874e-05\n",
      "Epoch 161 - MSE: 5.667518053087406e-05\n",
      "Epoch 162 - MSE: 5.6655106163816527e-05\n",
      "Epoch 163 - MSE: 5.6636894441908225e-05\n",
      "Epoch 164 - MSE: 5.6618981034262106e-05\n",
      "Epoch 165 - MSE: 5.660035094479099e-05\n",
      "Epoch 166 - MSE: 5.6582255638204515e-05\n",
      "Epoch 167 - MSE: 5.6564942497061566e-05\n",
      "Epoch 168 - MSE: 5.654707274516113e-05\n",
      "Epoch 169 - MSE: 5.652868640027009e-05\n",
      "Epoch 170 - MSE: 5.651108585880138e-05\n",
      "Epoch 171 - MSE: 5.6494267482776195e-05\n",
      "Epoch 172 - MSE: 5.6477278121747077e-05\n",
      "Epoch 173 - MSE: 5.6460055930074304e-05\n",
      "Epoch 174 - MSE: 5.6443306675646454e-05\n",
      "Epoch 175 - MSE: 5.642672840622254e-05\n",
      "Epoch 176 - MSE: 5.6409917306154966e-05\n",
      "Epoch 177 - MSE: 5.6393295380985364e-05\n",
      "Epoch 178 - MSE: 5.6377233704552054e-05\n",
      "Epoch 179 - MSE: 5.636127752950415e-05\n",
      "Epoch 180 - MSE: 5.634515400743112e-05\n",
      "Epoch 181 - MSE: 5.632920510834083e-05\n",
      "Epoch 182 - MSE: 5.631352905766107e-05\n",
      "Epoch 183 - MSE: 5.6297863920917735e-05\n",
      "Epoch 184 - MSE: 5.6282264267792925e-05\n",
      "Epoch 185 - MSE: 5.626692291116342e-05\n",
      "Epoch 186 - MSE: 5.625179619528353e-05\n",
      "Epoch 187 - MSE: 5.6236644013551995e-05\n",
      "Epoch 188 - MSE: 5.622155003948137e-05\n",
      "Epoch 189 - MSE: 5.6206659792223945e-05\n",
      "Epoch 190 - MSE: 5.619187868433073e-05\n",
      "Epoch 191 - MSE: 5.6177177611971274e-05\n",
      "Epoch 192 - MSE: 5.616261842078529e-05\n",
      "Epoch 193 - MSE: 5.614822293864563e-05\n",
      "Epoch 194 - MSE: 5.613386019831523e-05\n",
      "Epoch 195 - MSE: 5.611955566564575e-05\n",
      "Epoch 196 - MSE: 5.610539665212855e-05\n",
      "Epoch 197 - MSE: 5.609139770967886e-05\n",
      "Epoch 198 - MSE: 5.60774642508477e-05\n",
      "Epoch 199 - MSE: 5.606362174148671e-05\n",
      "Epoch 200 - MSE: 5.6049895647447556e-05\n"
     ]
    }
   ],
   "source": [
    "hist = np.zeros(num_epochs)\n",
    "\n",
    "for t in range(num_epochs):\n",
    "    y_train_pred = model(X_train)\n",
    "\n",
    "    mse = loss(y_train_pred, y_train)\n",
    "    print(\"Epoch\", t+1, \"- MSE:\", mse.item())\n",
    "    hist[t] = mse.item()\n",
    "\n",
    "    optimizer.zero_grad()\n",
    "    mse.backward()\n",
    "    optimizer.step()"
   ]
  },
  {
   "cell_type": "code",
   "execution_count": 14,
   "metadata": {},
   "outputs": [],
   "source": [
    "import pandas as pd\n",
    "import matplotlib.pyplot as plt\n",
    "\n",
    "actual = pd.DataFrame(scaler.inverse_transform(y_train.detach().numpy()))\n",
    "predict = pd.DataFrame(scaler.inverse_transform(y_train_pred.detach().numpy()))"
   ]
  },
  {
   "cell_type": "code",
   "execution_count": 15,
   "metadata": {},
   "outputs": [
    {
     "data": {
      "text/plain": [
       "<matplotlib.legend.Legend at 0x12973b4a710>"
      ]
     },
     "execution_count": 15,
     "metadata": {},
     "output_type": "execute_result"
    },
    {
     "data": {
      "image/png": "[encoded data removed]",
      "text/plain": [
       "<Figure size 640x480 with 1 Axes>"
      ]
     },
     "metadata": {},
     "output_type": "display_data"
    }
   ],
   "source": [
    "plt.plot(actual.index, actual[0], label='Actual')\n",
    "plt.plot(predict.index, predict[0], label='Prediction')\n",
    "plt.axis('off')\n",
    "plt.legend()"
   ]
  },
  {
   "cell_type": "code",
   "execution_count": 16,
   "metadata": {},
   "outputs": [
    {
     "data": {
      "text/plain": [
       "Text(0, 0.5, 'Error')"
      ]
     },
     "execution_count": 16,
     "metadata": {},
     "output_type": "execute_result"
    },
    {
     "data": {
      "image/png": "[encoded data removed]",
      "text/plain": [
       "<Figure size 640x480 with 1 Axes>"
      ]
     },
     "metadata": {},
     "output_type": "display_data"
    }
   ],
   "source": [
    "plt.plot(hist)\n",
    "plt.title('MSE')\n",
    "plt.xlabel('Epoch')\n",
    "plt.ylabel('Error')"
   ]
  },
  {
   "cell_type": "code",
   "execution_count": 17,
   "metadata": {},
   "outputs": [],
   "source": [
    "y_test_pred = model(X_test)\n",
    "\n",
    "train_actual = pd.DataFrame(scaler.inverse_transform(y_train.detach().numpy()))\n",
    "train_predict = pd.DataFrame(scaler.inverse_transform(y_train_pred.detach().numpy()))\n",
    "test_actual = pd.DataFrame(scaler.inverse_transform(y_test.detach().numpy()))\n",
    "test_predict = pd.DataFrame(scaler.inverse_transform(y_test_pred.detach().numpy()))"
   ]
  },
  {
   "cell_type": "code",
   "execution_count": 18,
   "metadata": {},
   "outputs": [],
   "source": [
    "from sklearn.metrics import mean_squared_error\n",
    "import math"
   ]
  },
  {
   "cell_type": "code",
   "execution_count": 19,
   "metadata": {},
   "outputs": [
    {
     "name": "stdout",
     "output_type": "stream",
     "text": [
      "Train MSE: 1.4318294634794302\n",
      "Test MSE: 3.097833577837351\n"
     ]
    }
   ],
   "source": [
    "print('Train MSE:', math.sqrt(mean_squared_error(train_actual.loc[:,0], train_predict.loc[:,0])))\n",
    "print('Test MSE:', math.sqrt(mean_squared_error(test_actual.loc[:,0], test_predict.loc[:,0])))"
   ]
  }
 ],
 "metadata": {
  "kernelspec": {
   "display_name": "env",
   "language": "python",
   "name": "python3"
  },
  "language_info": {
   "codemirror_mode": {
    "name": "ipython",
    "version": 3
   },
   "file_extension": ".py",
   "mimetype": "text/x-python",
   "name": "python",
   "nbconvert_exporter": "python",
   "pygments_lexer": "ipython3",
   "version": "3.11.4"
  }
 },
 "nbformat": 4,
 "nbformat_minor": 2
}
