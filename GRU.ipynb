{
 "cells": [
  {
   "cell_type": "code",
   "execution_count": 1,
   "metadata": {},
   "outputs": [],
   "source": [
    "import yfinance as yf"
   ]
  },
  {
   "cell_type": "code",
   "execution_count": 2,
   "metadata": {},
   "outputs": [
    {
     "name": "stderr",
     "output_type": "stream",
     "text": [
      "[*********************100%%**********************]  1 of 1 completed\n"
     ]
    },
    {
     "data": {
      "text/html": [
       "<div>\n",
       "<style scoped>\n",
       "    .dataframe tbody tr th:only-of-type {\n",
       "        vertical-align: middle;\n",
       "    }\n",
       "\n",
       "    .dataframe tbody tr th {\n",
       "        vertical-align: top;\n",
       "    }\n",
       "\n",
       "    .dataframe thead th {\n",
       "        text-align: right;\n",
       "    }\n",
       "</style>\n",
       "<table border=\"1\" class=\"dataframe\">\n",
       "  <thead>\n",
       "    <tr style=\"text-align: right;\">\n",
       "      <th></th>\n",
       "      <th>Open</th>\n",
       "      <th>High</th>\n",
       "      <th>Low</th>\n",
       "      <th>Close</th>\n",
       "      <th>Adj Close</th>\n",
       "      <th>Volume</th>\n",
       "    </tr>\n",
       "    <tr>\n",
       "      <th>Date</th>\n",
       "      <th></th>\n",
       "      <th></th>\n",
       "      <th></th>\n",
       "      <th></th>\n",
       "      <th></th>\n",
       "      <th></th>\n",
       "    </tr>\n",
       "  </thead>\n",
       "  <tbody>\n",
       "    <tr>\n",
       "      <th>2010-01-04</th>\n",
       "      <td>7.622500</td>\n",
       "      <td>7.660714</td>\n",
       "      <td>7.585000</td>\n",
       "      <td>7.643214</td>\n",
       "      <td>6.470742</td>\n",
       "      <td>493729600</td>\n",
       "    </tr>\n",
       "    <tr>\n",
       "      <th>2010-01-05</th>\n",
       "      <td>7.664286</td>\n",
       "      <td>7.699643</td>\n",
       "      <td>7.616071</td>\n",
       "      <td>7.656429</td>\n",
       "      <td>6.481928</td>\n",
       "      <td>601904800</td>\n",
       "    </tr>\n",
       "    <tr>\n",
       "      <th>2010-01-06</th>\n",
       "      <td>7.656429</td>\n",
       "      <td>7.686786</td>\n",
       "      <td>7.526786</td>\n",
       "      <td>7.534643</td>\n",
       "      <td>6.378824</td>\n",
       "      <td>552160000</td>\n",
       "    </tr>\n",
       "    <tr>\n",
       "      <th>2010-01-07</th>\n",
       "      <td>7.562500</td>\n",
       "      <td>7.571429</td>\n",
       "      <td>7.466071</td>\n",
       "      <td>7.520714</td>\n",
       "      <td>6.367034</td>\n",
       "      <td>477131200</td>\n",
       "    </tr>\n",
       "    <tr>\n",
       "      <th>2010-01-08</th>\n",
       "      <td>7.510714</td>\n",
       "      <td>7.571429</td>\n",
       "      <td>7.466429</td>\n",
       "      <td>7.570714</td>\n",
       "      <td>6.409362</td>\n",
       "      <td>447610800</td>\n",
       "    </tr>\n",
       "    <tr>\n",
       "      <th>...</th>\n",
       "      <td>...</td>\n",
       "      <td>...</td>\n",
       "      <td>...</td>\n",
       "      <td>...</td>\n",
       "      <td>...</td>\n",
       "      <td>...</td>\n",
       "    </tr>\n",
       "    <tr>\n",
       "      <th>2024-04-01</th>\n",
       "      <td>171.190002</td>\n",
       "      <td>171.250000</td>\n",
       "      <td>169.479996</td>\n",
       "      <td>170.029999</td>\n",
       "      <td>170.029999</td>\n",
       "      <td>46240500</td>\n",
       "    </tr>\n",
       "    <tr>\n",
       "      <th>2024-04-02</th>\n",
       "      <td>169.080002</td>\n",
       "      <td>169.339996</td>\n",
       "      <td>168.229996</td>\n",
       "      <td>168.839996</td>\n",
       "      <td>168.839996</td>\n",
       "      <td>49329500</td>\n",
       "    </tr>\n",
       "    <tr>\n",
       "      <th>2024-04-03</th>\n",
       "      <td>168.789993</td>\n",
       "      <td>170.679993</td>\n",
       "      <td>168.580002</td>\n",
       "      <td>169.649994</td>\n",
       "      <td>169.649994</td>\n",
       "      <td>47691700</td>\n",
       "    </tr>\n",
       "    <tr>\n",
       "      <th>2024-04-04</th>\n",
       "      <td>170.289993</td>\n",
       "      <td>171.919998</td>\n",
       "      <td>168.820007</td>\n",
       "      <td>168.820007</td>\n",
       "      <td>168.820007</td>\n",
       "      <td>53704400</td>\n",
       "    </tr>\n",
       "    <tr>\n",
       "      <th>2024-04-05</th>\n",
       "      <td>169.589996</td>\n",
       "      <td>170.389999</td>\n",
       "      <td>168.949997</td>\n",
       "      <td>169.580002</td>\n",
       "      <td>169.580002</td>\n",
       "      <td>42055200</td>\n",
       "    </tr>\n",
       "  </tbody>\n",
       "</table>\n",
       "<p>3588 rows × 6 columns</p>\n",
       "</div>"
      ],
      "text/plain": [
       "                  Open        High         Low       Close   Adj Close  \\\n",
       "Date                                                                     \n",
       "2010-01-04    7.622500    7.660714    7.585000    7.643214    6.470742   \n",
       "2010-01-05    7.664286    7.699643    7.616071    7.656429    6.481928   \n",
       "2010-01-06    7.656429    7.686786    7.526786    7.534643    6.378824   \n",
       "2010-01-07    7.562500    7.571429    7.466071    7.520714    6.367034   \n",
       "2010-01-08    7.510714    7.571429    7.466429    7.570714    6.409362   \n",
       "...                ...         ...         ...         ...         ...   \n",
       "2024-04-01  171.190002  171.250000  169.479996  170.029999  170.029999   \n",
       "2024-04-02  169.080002  169.339996  168.229996  168.839996  168.839996   \n",
       "2024-04-03  168.789993  170.679993  168.580002  169.649994  169.649994   \n",
       "2024-04-04  170.289993  171.919998  168.820007  168.820007  168.820007   \n",
       "2024-04-05  169.589996  170.389999  168.949997  169.580002  169.580002   \n",
       "\n",
       "               Volume  \n",
       "Date                   \n",
       "2010-01-04  493729600  \n",
       "2010-01-05  601904800  \n",
       "2010-01-06  552160000  \n",
       "2010-01-07  477131200  \n",
       "2010-01-08  447610800  \n",
       "...               ...  \n",
       "2024-04-01   46240500  \n",
       "2024-04-02   49329500  \n",
       "2024-04-03   47691700  \n",
       "2024-04-04   53704400  \n",
       "2024-04-05   42055200  \n",
       "\n",
       "[3588 rows x 6 columns]"
      ]
     },
     "execution_count": 2,
     "metadata": {},
     "output_type": "execute_result"
    }
   ],
   "source": [
    "df = yf.download('AAPL', start=\"2010-01-01\")\n",
    "df"
   ]
  },
  {
   "cell_type": "code",
   "execution_count": 3,
   "metadata": {},
   "outputs": [],
   "source": [
    "from sklearn.preprocessing import MinMaxScaler\n",
    "\n",
    "scaler = MinMaxScaler()\n",
    "\n",
    "df_scaled = scaler.fit_transform(df[['Close']])"
   ]
  },
  {
   "cell_type": "code",
   "execution_count": 4,
   "metadata": {},
   "outputs": [
    {
     "data": {
      "text/plain": [
       "array([[0.00410081],\n",
       "       [0.00416991],\n",
       "       [0.00353313],\n",
       "       ...,\n",
       "       [0.85119034],\n",
       "       [0.84685057],\n",
       "       [0.85082437]])"
      ]
     },
     "execution_count": 4,
     "metadata": {},
     "output_type": "execute_result"
    }
   ],
   "source": [
    "df_scaled"
   ]
  },
  {
   "cell_type": "code",
   "execution_count": 5,
   "metadata": {},
   "outputs": [],
   "source": [
    "import numpy as np\n",
    "\n",
    "def train_test_split(data, train_ratio, seq_len):\n",
    "    X = []\n",
    "    y = []\n",
    "    for i in range(seq_len, len(data)):\n",
    "        X.append(data[i-seq_len:i])\n",
    "        y.append(data[i])\n",
    "    split = int(len(data) * train_ratio)\n",
    "    X_train = np.array(X[:split])\n",
    "    X_test = np.array(X[split:])\n",
    "    y_train = np.array(y[:split])\n",
    "    y_test = np.array(y[split:])\n",
    "\n",
    "    return X_train, X_test, y_train, y_test"
   ]
  },
  {
   "cell_type": "code",
   "execution_count": 6,
   "metadata": {},
   "outputs": [],
   "source": [
    "X_train, X_test, y_train, y_test = train_test_split(df_scaled, 0.9, 20)"
   ]
  },
  {
   "cell_type": "code",
   "execution_count": 7,
   "metadata": {},
   "outputs": [
    {
     "name": "stdout",
     "output_type": "stream",
     "text": [
      "X_train shape: (3229, 20, 1)\n",
      "X_test shape: (339, 20, 1)\n",
      "y_train shape: (3229, 1)\n",
      "y_test shape: (339, 1)\n"
     ]
    }
   ],
   "source": [
    "print('X_train shape:', X_train.shape)\n",
    "print('X_test shape:', X_test.shape)\n",
    "print('y_train shape:', y_train.shape)\n",
    "print('y_test shape:', y_test.shape)"
   ]
  },
  {
   "cell_type": "code",
   "execution_count": 8,
   "metadata": {},
   "outputs": [],
   "source": [
    "import torch\n",
    "\n",
    "X_train = torch.from_numpy(X_train).type(torch.Tensor)\n",
    "X_test = torch.from_numpy(X_test).type(torch.Tensor)\n",
    "y_train = torch.from_numpy(y_train).type(torch.Tensor)\n",
    "y_test = torch.from_numpy(y_test).type(torch.Tensor)"
   ]
  },
  {
   "cell_type": "code",
   "execution_count": 9,
   "metadata": {},
   "outputs": [
    {
     "name": "stdout",
     "output_type": "stream",
     "text": [
      "X_train shape: torch.Size([3229, 20, 1])\n",
      "X_test shape: torch.Size([339, 20, 1])\n",
      "y_train shape: torch.Size([3229, 1])\n",
      "y_test shape: torch.Size([339, 1])\n"
     ]
    }
   ],
   "source": [
    "print('X_train shape:', X_train.shape)\n",
    "print('X_test shape:', X_test.shape)\n",
    "print('y_train shape:', y_train.shape)\n",
    "print('y_test shape:', y_test.shape)"
   ]
  },
  {
   "cell_type": "code",
   "execution_count": 10,
   "metadata": {},
   "outputs": [],
   "source": [
    "class GRU(torch.nn.Module):\n",
    "    def __init__(self, input_dim, hidden_dim, num_layers, output_dim):\n",
    "        super(GRU, self).__init__()\n",
    "        self.hidden_dim = hidden_dim\n",
    "        self.num_layers = num_layers\n",
    "        \n",
    "        self.gru = torch.nn.GRU(input_dim, hidden_dim, num_layers, batch_first=True)\n",
    "        self.fc = torch.nn.Linear(hidden_dim, output_dim)\n",
    "\n",
    "    def forward(self, x):\n",
    "        h0 = torch.zeros(self.num_layers, x.size(0), self.hidden_dim).requires_grad_()\n",
    "        out, (hn) = self.gru(x, (h0.detach()))\n",
    "        out = self.fc(out[:, -1, :]) \n",
    "        return out"
   ]
  },
  {
   "cell_type": "code",
   "execution_count": 11,
   "metadata": {},
   "outputs": [],
   "source": [
    "input_dim = 1\n",
    "hidden_dim = 32\n",
    "num_layers = 2\n",
    "output_dim = 1\n",
    "learning_rate = 0.01\n",
    "num_epochs = 200"
   ]
  },
  {
   "cell_type": "code",
   "execution_count": 12,
   "metadata": {},
   "outputs": [],
   "source": [
    "model = GRU(input_dim, hidden_dim, num_layers, output_dim)\n",
    "loss = torch.nn.MSELoss()\n",
    "optimizer = torch.optim.Adam(model.parameters(), lr=learning_rate)"
   ]
  },
  {
   "cell_type": "code",
   "execution_count": 13,
   "metadata": {},
   "outputs": [
    {
     "name": "stdout",
     "output_type": "stream",
     "text": [
      "Epoch 1 - MSE: 0.1775088757276535\n",
      "Epoch 2 - MSE: 0.05586880445480347\n",
      "Epoch 3 - MSE: 0.07722421735525131\n",
      "Epoch 4 - MSE: 0.05717228353023529\n",
      "Epoch 5 - MSE: 0.03650935739278793\n",
      "Epoch 6 - MSE: 0.034993287175893784\n",
      "Epoch 7 - MSE: 0.03671656548976898\n",
      "Epoch 8 - MSE: 0.03005274198949337\n",
      "Epoch 9 - MSE: 0.016958491876721382\n",
      "Epoch 10 - MSE: 0.008569837547838688\n",
      "Epoch 11 - MSE: 0.012393612414598465\n",
      "Epoch 12 - MSE: 0.010181973688304424\n",
      "Epoch 13 - MSE: 0.0011330596171319485\n",
      "Epoch 14 - MSE: 0.005711142439395189\n",
      "Epoch 15 - MSE: 0.011709819547832012\n",
      "Epoch 16 - MSE: 0.006660051643848419\n",
      "Epoch 17 - MSE: 0.0011810209834948182\n",
      "Epoch 18 - MSE: 0.0016308363992720842\n",
      "Epoch 19 - MSE: 0.0035856030881404877\n",
      "Epoch 20 - MSE: 0.003169239731505513\n",
      "Epoch 21 - MSE: 0.0021353501360863447\n",
      "Epoch 22 - MSE: 0.002342528896406293\n",
      "Epoch 23 - MSE: 0.00329829310066998\n",
      "Epoch 24 - MSE: 0.0037006691563874483\n",
      "Epoch 25 - MSE: 0.002931712893769145\n",
      "Epoch 26 - MSE: 0.0014498060336336493\n",
      "Epoch 27 - MSE: 0.00037798075936734676\n",
      "Epoch 28 - MSE: 0.0004891959833912551\n",
      "Epoch 29 - MSE: 0.0012275316985324025\n",
      "Epoch 30 - MSE: 0.001357540488243103\n",
      "Epoch 31 - MSE: 0.0008674851269461215\n",
      "Epoch 32 - MSE: 0.0007201098487712443\n",
      "Epoch 33 - MSE: 0.0010643447749316692\n",
      "Epoch 34 - MSE: 0.0012091761454939842\n",
      "Epoch 35 - MSE: 0.0008077959646470845\n",
      "Epoch 36 - MSE: 0.0002514659136068076\n",
      "Epoch 37 - MSE: 8.47150367917493e-05\n",
      "Epoch 38 - MSE: 0.00035540442331694067\n",
      "Epoch 39 - MSE: 0.0006350516341626644\n",
      "Epoch 40 - MSE: 0.0006112962146289647\n",
      "Epoch 41 - MSE: 0.0004177077498752624\n",
      "Epoch 42 - MSE: 0.0003299726522527635\n",
      "Epoch 43 - MSE: 0.0003894818073604256\n",
      "Epoch 44 - MSE: 0.0004238535475451499\n",
      "Epoch 45 - MSE: 0.00031043030321598053\n",
      "Epoch 46 - MSE: 0.0001329757069470361\n",
      "Epoch 47 - MSE: 7.69087127991952e-05\n",
      "Epoch 48 - MSE: 0.000187732235644944\n",
      "Epoch 49 - MSE: 0.0003018104762304574\n",
      "Epoch 50 - MSE: 0.0002765413373708725\n",
      "Epoch 51 - MSE: 0.0001789688685676083\n",
      "Epoch 52 - MSE: 0.00014331653073895723\n",
      "Epoch 53 - MSE: 0.00017079194367397577\n",
      "Epoch 54 - MSE: 0.00017191549704875797\n",
      "Epoch 55 - MSE: 0.00011974868539255112\n",
      "Epoch 56 - MSE: 7.868568354751915e-05\n",
      "Epoch 57 - MSE: 0.00010129813017556444\n",
      "Epoch 58 - MSE: 0.00015270535368472338\n",
      "Epoch 59 - MSE: 0.00016331269580405205\n",
      "Epoch 60 - MSE: 0.00012510534725151956\n",
      "Epoch 61 - MSE: 9.062224125955254e-05\n",
      "Epoch 62 - MSE: 9.1258691099938e-05\n",
      "Epoch 63 - MSE: 0.00010299119458068162\n",
      "Epoch 64 - MSE: 9.495415724813938e-05\n",
      "Epoch 65 - MSE: 7.663546421099454e-05\n",
      "Epoch 66 - MSE: 7.75274311308749e-05\n",
      "Epoch 67 - MSE: 9.7021518740803e-05\n",
      "Epoch 68 - MSE: 0.00010460741759743541\n",
      "Epoch 69 - MSE: 8.844635158311576e-05\n",
      "Epoch 70 - MSE: 7.097837806213647e-05\n",
      "Epoch 71 - MSE: 7.073245069477707e-05\n",
      "Epoch 72 - MSE: 7.806505891494453e-05\n",
      "Epoch 73 - MSE: 7.717432890785858e-05\n",
      "Epoch 74 - MSE: 7.080475188558921e-05\n",
      "Epoch 75 - MSE: 7.114542677300051e-05\n",
      "Epoch 76 - MSE: 7.768299110466614e-05\n",
      "Epoch 77 - MSE: 7.857876335037872e-05\n",
      "Epoch 78 - MSE: 7.074315362842754e-05\n",
      "Epoch 79 - MSE: 6.425510946428403e-05\n",
      "Epoch 80 - MSE: 6.568877870449796e-05\n",
      "Epoch 81 - MSE: 6.939811282791197e-05\n",
      "Epoch 82 - MSE: 6.873952952446416e-05\n",
      "Epoch 83 - MSE: 6.61659287288785e-05\n",
      "Epoch 84 - MSE: 6.675367330899462e-05\n",
      "Epoch 85 - MSE: 6.869338540127501e-05\n",
      "Epoch 86 - MSE: 6.723378464812413e-05\n",
      "Epoch 87 - MSE: 6.355416553560644e-05\n",
      "Epoch 88 - MSE: 6.250468868529424e-05\n",
      "Epoch 89 - MSE: 6.442153971875086e-05\n",
      "Epoch 90 - MSE: 6.545965152326971e-05\n",
      "Epoch 91 - MSE: 6.433491944335401e-05\n",
      "Epoch 92 - MSE: 6.348057650029659e-05\n",
      "Epoch 93 - MSE: 6.400376150850207e-05\n",
      "Epoch 94 - MSE: 6.403197767212987e-05\n",
      "Epoch 95 - MSE: 6.26690307399258e-05\n",
      "Epoch 96 - MSE: 6.17240002611652e-05\n",
      "Epoch 97 - MSE: 6.23520027147606e-05\n",
      "Epoch 98 - MSE: 6.314288475550711e-05\n",
      "Epoch 99 - MSE: 6.278818182181567e-05\n",
      "Epoch 100 - MSE: 6.208896229509264e-05\n",
      "Epoch 101 - MSE: 6.206589750945568e-05\n",
      "Epoch 102 - MSE: 6.217585905687883e-05\n",
      "Epoch 103 - MSE: 6.171155837364495e-05\n",
      "Epoch 104 - MSE: 6.1250408180058e-05\n",
      "Epoch 105 - MSE: 6.145654333522543e-05\n",
      "Epoch 106 - MSE: 6.18180783931166e-05\n",
      "Epoch 107 - MSE: 6.164499063743278e-05\n",
      "Epoch 108 - MSE: 6.123293132986873e-05\n",
      "Epoch 109 - MSE: 6.113902782090008e-05\n",
      "Epoch 110 - MSE: 6.118935561971739e-05\n",
      "Epoch 111 - MSE: 6.101172402850352e-05\n",
      "Epoch 112 - MSE: 6.08103109698277e-05\n",
      "Epoch 113 - MSE: 6.088386362534948e-05\n",
      "Epoch 114 - MSE: 6.100189420976676e-05\n",
      "Epoch 115 - MSE: 6.086194480303675e-05\n",
      "Epoch 116 - MSE: 6.0635560657829046e-05\n",
      "Epoch 117 - MSE: 6.058289727661759e-05\n",
      "Epoch 118 - MSE: 6.05948043812532e-05\n",
      "Epoch 119 - MSE: 6.0500966355903074e-05\n",
      "Epoch 120 - MSE: 6.040944572305307e-05\n",
      "Epoch 121 - MSE: 6.0429738368839025e-05\n",
      "Epoch 122 - MSE: 6.0431790188886225e-05\n",
      "Epoch 123 - MSE: 6.031593511579558e-05\n",
      "Epoch 124 - MSE: 6.020120781613514e-05\n",
      "Epoch 125 - MSE: 6.017966734361835e-05\n",
      "Epoch 126 - MSE: 6.016520273988135e-05\n",
      "Epoch 127 - MSE: 6.0098715039202943e-05\n",
      "Epoch 128 - MSE: 6.004874376230873e-05\n",
      "Epoch 129 - MSE: 6.003837916068733e-05\n",
      "Epoch 130 - MSE: 5.999623681418598e-05\n",
      "Epoch 131 - MSE: 5.9913352743024006e-05\n",
      "Epoch 132 - MSE: 5.9859739849343896e-05\n",
      "Epoch 133 - MSE: 5.984370000078343e-05\n",
      "Epoch 134 - MSE: 5.981083813821897e-05\n",
      "Epoch 135 - MSE: 5.9758982388302684e-05\n",
      "Epoch 136 - MSE: 5.972442158963531e-05\n",
      "Epoch 137 - MSE: 5.9696252719732e-05\n",
      "Epoch 138 - MSE: 5.9646587033057585e-05\n",
      "Epoch 139 - MSE: 5.959472764516249e-05\n",
      "Epoch 140 - MSE: 5.956566383247264e-05\n",
      "Epoch 141 - MSE: 5.9540834627114236e-05\n",
      "Epoch 142 - MSE: 5.950118065811694e-05\n",
      "Epoch 143 - MSE: 5.9461530327098444e-05\n",
      "Epoch 144 - MSE: 5.9431105910334736e-05\n",
      "Epoch 145 - MSE: 5.939587936154567e-05\n",
      "Epoch 146 - MSE: 5.935431181569584e-05\n",
      "Epoch 147 - MSE: 5.932119893259369e-05\n",
      "Epoch 148 - MSE: 5.929504914092831e-05\n",
      "Epoch 149 - MSE: 5.9262685681460425e-05\n",
      "Epoch 150 - MSE: 5.922631316934712e-05\n",
      "Epoch 151 - MSE: 5.919481554883532e-05\n",
      "Epoch 152 - MSE: 5.916434747632593e-05\n",
      "Epoch 153 - MSE: 5.9130226873094216e-05\n",
      "Epoch 154 - MSE: 5.9098303609061986e-05\n",
      "Epoch 155 - MSE: 5.90709169046022e-05\n",
      "Epoch 156 - MSE: 5.904166027903557e-05\n",
      "Epoch 157 - MSE: 5.90093586652074e-05\n",
      "Epoch 158 - MSE: 5.897903611185029e-05\n",
      "Epoch 159 - MSE: 5.8950536185875535e-05\n",
      "Epoch 160 - MSE: 5.8920650189975277e-05\n",
      "Epoch 161 - MSE: 5.88911134400405e-05\n",
      "Epoch 162 - MSE: 5.886388316866942e-05\n",
      "Epoch 163 - MSE: 5.8836252719629556e-05\n",
      "Epoch 164 - MSE: 5.880702883587219e-05\n",
      "Epoch 165 - MSE: 5.8778674429049715e-05\n",
      "Epoch 166 - MSE: 5.875168790225871e-05\n",
      "Epoch 167 - MSE: 5.872427936992608e-05\n",
      "Epoch 168 - MSE: 5.869686356163584e-05\n",
      "Epoch 169 - MSE: 5.86705791647546e-05\n",
      "Epoch 170 - MSE: 5.864433114766143e-05\n",
      "Epoch 171 - MSE: 5.86173300689552e-05\n",
      "Epoch 172 - MSE: 5.8590878325048834e-05\n",
      "Epoch 173 - MSE: 5.8565306972013786e-05\n",
      "Epoch 174 - MSE: 5.853961920365691e-05\n",
      "Epoch 175 - MSE: 5.851394234923646e-05\n",
      "Epoch 176 - MSE: 5.848885848536156e-05\n",
      "Epoch 177 - MSE: 5.846385101904161e-05\n",
      "Epoch 178 - MSE: 5.8438654377823696e-05\n",
      "Epoch 179 - MSE: 5.841380698257126e-05\n",
      "Epoch 180 - MSE: 5.838950164616108e-05\n",
      "Epoch 181 - MSE: 5.8365214499644935e-05\n",
      "Epoch 182 - MSE: 5.834098919876851e-05\n",
      "Epoch 183 - MSE: 5.8317142247688025e-05\n",
      "Epoch 184 - MSE: 5.829334259033203e-05\n",
      "Epoch 185 - MSE: 5.826960114063695e-05\n",
      "Epoch 186 - MSE: 5.824612526339479e-05\n",
      "Epoch 187 - MSE: 5.822298408020288e-05\n",
      "Epoch 188 - MSE: 5.819987927679904e-05\n",
      "Epoch 189 - MSE: 5.817689452669583e-05\n",
      "Epoch 190 - MSE: 5.8154160797130316e-05\n",
      "Epoch 191 - MSE: 5.8131510741077363e-05\n",
      "Epoch 192 - MSE: 5.810896254843101e-05\n",
      "Epoch 193 - MSE: 5.808667992823757e-05\n",
      "Epoch 194 - MSE: 5.806456465506926e-05\n",
      "Epoch 195 - MSE: 5.804252941743471e-05\n",
      "Epoch 196 - MSE: 5.802062514703721e-05\n",
      "Epoch 197 - MSE: 5.7998939155368134e-05\n",
      "Epoch 198 - MSE: 5.797729318146594e-05\n",
      "Epoch 199 - MSE: 5.795581091661006e-05\n",
      "Epoch 200 - MSE: 5.793449599877931e-05\n"
     ]
    }
   ],
   "source": [
    "hist = np.zeros(num_epochs)\n",
    "\n",
    "for t in range(num_epochs):\n",
    "    y_train_pred = model(X_train)\n",
    "\n",
    "    mse = loss(y_train_pred, y_train)\n",
    "    print(\"Epoch\", t+1, \"- MSE:\", mse.item())\n",
    "    hist[t] = mse.item()\n",
    "\n",
    "    optimizer.zero_grad()\n",
    "    mse.backward()\n",
    "    optimizer.step()"
   ]
  },
  {
   "cell_type": "code",
   "execution_count": 14,
   "metadata": {},
   "outputs": [],
   "source": [
    "import pandas as pd\n",
    "import matplotlib.pyplot as plt\n",
    "\n",
    "actual = pd.DataFrame(scaler.inverse_transform(y_train.detach().numpy()))\n",
    "predict = pd.DataFrame(scaler.inverse_transform(y_train_pred.detach().numpy()))"
   ]
  },
  {
   "cell_type": "code",
   "execution_count": 15,
   "metadata": {},
   "outputs": [
    {
     "data": {
      "text/plain": [
       "<matplotlib.legend.Legend at 0x142829bd350>"
      ]
     },
     "execution_count": 15,
     "metadata": {},
     "output_type": "execute_result"
    },
    {
     "data": {
      "image/png": "[encoded data removed]",
      "text/plain": [
       "<Figure size 640x480 with 1 Axes>"
      ]
     },
     "metadata": {},
     "output_type": "display_data"
    }
   ],
   "source": [
    "plt.plot(actual.index, actual[0], label='Actual')\n",
    "plt.plot(predict.index, predict[0], label='Prediction')\n",
    "plt.axis('off')\n",
    "plt.legend()"
   ]
  },
  {
   "cell_type": "code",
   "execution_count": 16,
   "metadata": {},
   "outputs": [
    {
     "data": {
      "text/plain": [
       "Text(0, 0.5, 'Error')"
      ]
     },
     "execution_count": 16,
     "metadata": {},
     "output_type": "execute_result"
    },
    {
     "data": {
      "image/png": "[encoded data removed]",
      "text/plain": [
       "<Figure size 640x480 with 1 Axes>"
      ]
     },
     "metadata": {},
     "output_type": "display_data"
    }
   ],
   "source": [
    "plt.plot(hist)\n",
    "plt.title('MSE')\n",
    "plt.xlabel('Epoch')\n",
    "plt.ylabel('Error')"
   ]
  },
  {
   "cell_type": "code",
   "execution_count": 17,
   "metadata": {},
   "outputs": [],
   "source": [
    "y_test_pred = model(X_test)\n",
    "\n",
    "train_actual = pd.DataFrame(scaler.inverse_transform(y_train.detach().numpy()))\n",
    "train_predict = pd.DataFrame(scaler.inverse_transform(y_train_pred.detach().numpy()))\n",
    "test_actual = pd.DataFrame(scaler.inverse_transform(y_test.detach().numpy()))\n",
    "test_predict = pd.DataFrame(scaler.inverse_transform(y_test_pred.detach().numpy()))"
   ]
  },
  {
   "cell_type": "code",
   "execution_count": 18,
   "metadata": {},
   "outputs": [],
   "source": [
    "from sklearn.metrics import mean_squared_error\n",
    "import math"
   ]
  },
  {
   "cell_type": "code",
   "execution_count": 19,
   "metadata": {},
   "outputs": [
    {
     "name": "stdout",
     "output_type": "stream",
     "text": [
      "Train RMSE: 1.4557020245127545\n",
      "Test RMSE: 3.3494452344531735\n"
     ]
    }
   ],
   "source": [
    "print('Train RMSE:', math.sqrt(mean_squared_error(train_actual.loc[:,0], train_predict.loc[:,0])))\n",
    "print('Test RMSE:', math.sqrt(mean_squared_error(test_actual.loc[:,0], test_predict.loc[:,0])))"
   ]
  }
 ],
 "metadata": {
  "kernelspec": {
   "display_name": "env",
   "language": "python",
   "name": "python3"
  },
  "language_info": {
   "codemirror_mode": {
    "name": "ipython",
    "version": 3
   },
   "file_extension": ".py",
   "mimetype": "text/x-python",
   "name": "python",
   "nbconvert_exporter": "python",
   "pygments_lexer": "ipython3",
   "version": "3.11.4"
  }
 },
 "nbformat": 4,
 "nbformat_minor": 2
}
