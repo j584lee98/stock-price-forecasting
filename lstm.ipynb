{
 "cells": [
  {
   "cell_type": "code",
   "execution_count": 9,
   "metadata": {},
   "outputs": [],
   "source": [
    "import yfinance as yf"
   ]
  },
  {
   "cell_type": "code",
   "execution_count": 10,
   "metadata": {},
   "outputs": [
    {
     "name": "stderr",
     "output_type": "stream",
     "text": [
      "[*********************100%%**********************]  1 of 1 completed\n"
     ]
    },
    {
     "data": {
      "text/html": [
       "<div>\n",
       "<style scoped>\n",
       "    .dataframe tbody tr th:only-of-type {\n",
       "        vertical-align: middle;\n",
       "    }\n",
       "\n",
       "    .dataframe tbody tr th {\n",
       "        vertical-align: top;\n",
       "    }\n",
       "\n",
       "    .dataframe thead th {\n",
       "        text-align: right;\n",
       "    }\n",
       "</style>\n",
       "<table border=\"1\" class=\"dataframe\">\n",
       "  <thead>\n",
       "    <tr style=\"text-align: right;\">\n",
       "      <th></th>\n",
       "      <th>Open</th>\n",
       "      <th>High</th>\n",
       "      <th>Low</th>\n",
       "      <th>Close</th>\n",
       "      <th>Adj Close</th>\n",
       "      <th>Volume</th>\n",
       "    </tr>\n",
       "    <tr>\n",
       "      <th>Date</th>\n",
       "      <th></th>\n",
       "      <th></th>\n",
       "      <th></th>\n",
       "      <th></th>\n",
       "      <th></th>\n",
       "      <th></th>\n",
       "    </tr>\n",
       "  </thead>\n",
       "  <tbody>\n",
       "    <tr>\n",
       "      <th>2010-01-04</th>\n",
       "      <td>7.622500</td>\n",
       "      <td>7.660714</td>\n",
       "      <td>7.585000</td>\n",
       "      <td>7.643214</td>\n",
       "      <td>6.470741</td>\n",
       "      <td>493729600</td>\n",
       "    </tr>\n",
       "    <tr>\n",
       "      <th>2010-01-05</th>\n",
       "      <td>7.664286</td>\n",
       "      <td>7.699643</td>\n",
       "      <td>7.616071</td>\n",
       "      <td>7.656429</td>\n",
       "      <td>6.481930</td>\n",
       "      <td>601904800</td>\n",
       "    </tr>\n",
       "    <tr>\n",
       "      <th>2010-01-06</th>\n",
       "      <td>7.656429</td>\n",
       "      <td>7.686786</td>\n",
       "      <td>7.526786</td>\n",
       "      <td>7.534643</td>\n",
       "      <td>6.378825</td>\n",
       "      <td>552160000</td>\n",
       "    </tr>\n",
       "    <tr>\n",
       "      <th>2010-01-07</th>\n",
       "      <td>7.562500</td>\n",
       "      <td>7.571429</td>\n",
       "      <td>7.466071</td>\n",
       "      <td>7.520714</td>\n",
       "      <td>6.367033</td>\n",
       "      <td>477131200</td>\n",
       "    </tr>\n",
       "    <tr>\n",
       "      <th>2010-01-08</th>\n",
       "      <td>7.510714</td>\n",
       "      <td>7.571429</td>\n",
       "      <td>7.466429</td>\n",
       "      <td>7.570714</td>\n",
       "      <td>6.409363</td>\n",
       "      <td>447610800</td>\n",
       "    </tr>\n",
       "    <tr>\n",
       "      <th>...</th>\n",
       "      <td>...</td>\n",
       "      <td>...</td>\n",
       "      <td>...</td>\n",
       "      <td>...</td>\n",
       "      <td>...</td>\n",
       "      <td>...</td>\n",
       "    </tr>\n",
       "    <tr>\n",
       "      <th>2024-04-01</th>\n",
       "      <td>171.190002</td>\n",
       "      <td>171.250000</td>\n",
       "      <td>169.479996</td>\n",
       "      <td>170.029999</td>\n",
       "      <td>170.029999</td>\n",
       "      <td>46240500</td>\n",
       "    </tr>\n",
       "    <tr>\n",
       "      <th>2024-04-02</th>\n",
       "      <td>169.080002</td>\n",
       "      <td>169.339996</td>\n",
       "      <td>168.229996</td>\n",
       "      <td>168.839996</td>\n",
       "      <td>168.839996</td>\n",
       "      <td>49329500</td>\n",
       "    </tr>\n",
       "    <tr>\n",
       "      <th>2024-04-03</th>\n",
       "      <td>168.789993</td>\n",
       "      <td>170.679993</td>\n",
       "      <td>168.580002</td>\n",
       "      <td>169.649994</td>\n",
       "      <td>169.649994</td>\n",
       "      <td>47691700</td>\n",
       "    </tr>\n",
       "    <tr>\n",
       "      <th>2024-04-04</th>\n",
       "      <td>170.289993</td>\n",
       "      <td>171.919998</td>\n",
       "      <td>168.820007</td>\n",
       "      <td>168.820007</td>\n",
       "      <td>168.820007</td>\n",
       "      <td>53704400</td>\n",
       "    </tr>\n",
       "    <tr>\n",
       "      <th>2024-04-05</th>\n",
       "      <td>169.589996</td>\n",
       "      <td>170.389999</td>\n",
       "      <td>168.949997</td>\n",
       "      <td>169.580002</td>\n",
       "      <td>169.580002</td>\n",
       "      <td>42055200</td>\n",
       "    </tr>\n",
       "  </tbody>\n",
       "</table>\n",
       "<p>3588 rows × 6 columns</p>\n",
       "</div>"
      ],
      "text/plain": [
       "                  Open        High         Low       Close   Adj Close  \\\n",
       "Date                                                                     \n",
       "2010-01-04    7.622500    7.660714    7.585000    7.643214    6.470741   \n",
       "2010-01-05    7.664286    7.699643    7.616071    7.656429    6.481930   \n",
       "2010-01-06    7.656429    7.686786    7.526786    7.534643    6.378825   \n",
       "2010-01-07    7.562500    7.571429    7.466071    7.520714    6.367033   \n",
       "2010-01-08    7.510714    7.571429    7.466429    7.570714    6.409363   \n",
       "...                ...         ...         ...         ...         ...   \n",
       "2024-04-01  171.190002  171.250000  169.479996  170.029999  170.029999   \n",
       "2024-04-02  169.080002  169.339996  168.229996  168.839996  168.839996   \n",
       "2024-04-03  168.789993  170.679993  168.580002  169.649994  169.649994   \n",
       "2024-04-04  170.289993  171.919998  168.820007  168.820007  168.820007   \n",
       "2024-04-05  169.589996  170.389999  168.949997  169.580002  169.580002   \n",
       "\n",
       "               Volume  \n",
       "Date                   \n",
       "2010-01-04  493729600  \n",
       "2010-01-05  601904800  \n",
       "2010-01-06  552160000  \n",
       "2010-01-07  477131200  \n",
       "2010-01-08  447610800  \n",
       "...               ...  \n",
       "2024-04-01   46240500  \n",
       "2024-04-02   49329500  \n",
       "2024-04-03   47691700  \n",
       "2024-04-04   53704400  \n",
       "2024-04-05   42055200  \n",
       "\n",
       "[3588 rows x 6 columns]"
      ]
     },
     "execution_count": 10,
     "metadata": {},
     "output_type": "execute_result"
    }
   ],
   "source": [
    "df = yf.download('AAPL', start=\"2010-01-01\")\n",
    "df"
   ]
  },
  {
   "cell_type": "code",
   "execution_count": 11,
   "metadata": {},
   "outputs": [],
   "source": [
    "from sklearn.preprocessing import MinMaxScaler\n",
    "\n",
    "scaler = MinMaxScaler()\n",
    "\n",
    "df_scaled = scaler.fit_transform(df[['Close']])"
   ]
  },
  {
   "cell_type": "code",
   "execution_count": 12,
   "metadata": {},
   "outputs": [
    {
     "data": {
      "text/plain": [
       "array([[0.00410081],\n",
       "       [0.00416991],\n",
       "       [0.00353313],\n",
       "       ...,\n",
       "       [0.85119034],\n",
       "       [0.84685057],\n",
       "       [0.85082437]])"
      ]
     },
     "execution_count": 12,
     "metadata": {},
     "output_type": "execute_result"
    }
   ],
   "source": [
    "df_scaled"
   ]
  },
  {
   "cell_type": "code",
   "execution_count": 18,
   "metadata": {},
   "outputs": [],
   "source": [
    "import numpy as np\n",
    "\n",
    "def train_test_split(data, train_ratio, seq_len):\n",
    "    X = []\n",
    "    y = []\n",
    "    for i in range(seq_len, len(data)):\n",
    "        X.append(data[i-seq_len:i])\n",
    "        y.append(data[i])\n",
    "    split = int(len(data) * train_ratio)\n",
    "    X_train = np.array(X[:split])\n",
    "    X_test = np.array(X[split:])\n",
    "    y_train = np.array(y[:split])\n",
    "    y_test = np.array(y[split:])\n",
    "\n",
    "    return X_train, X_test, y_train, y_test"
   ]
  },
  {
   "cell_type": "code",
   "execution_count": 19,
   "metadata": {},
   "outputs": [],
   "source": [
    "X_train, X_test, y_train, y_test = train_test_split(df_scaled, 0.9, 20)"
   ]
  },
  {
   "cell_type": "code",
   "execution_count": 20,
   "metadata": {},
   "outputs": [
    {
     "name": "stdout",
     "output_type": "stream",
     "text": [
      "X_train shape: (3229, 20, 1)\n",
      "X_test shape: (339, 20, 1)\n",
      "y_train shape: (3229, 1)\n",
      "y_test shape: (339, 1)\n"
     ]
    }
   ],
   "source": [
    "print('X_train shape:', X_train.shape)\n",
    "print('X_test shape:', X_test.shape)\n",
    "print('y_train shape:', y_train.shape)\n",
    "print('y_test shape:', y_test.shape)"
   ]
  },
  {
   "cell_type": "code",
   "execution_count": 21,
   "metadata": {},
   "outputs": [],
   "source": [
    "import torch\n",
    "\n",
    "X_train = torch.from_numpy(X_train).type(torch.Tensor)\n",
    "X_test = torch.from_numpy(X_test).type(torch.Tensor)\n",
    "y_train = torch.from_numpy(y_train).type(torch.Tensor)\n",
    "y_test = torch.from_numpy(y_test).type(torch.Tensor)"
   ]
  },
  {
   "cell_type": "code",
   "execution_count": 22,
   "metadata": {},
   "outputs": [
    {
     "name": "stdout",
     "output_type": "stream",
     "text": [
      "X_train shape: torch.Size([3229, 20, 1])\n",
      "X_test shape: torch.Size([339, 20, 1])\n",
      "y_train shape: torch.Size([3229, 1])\n",
      "y_test shape: torch.Size([339, 1])\n"
     ]
    }
   ],
   "source": [
    "print('X_train shape:', X_train.shape)\n",
    "print('X_test shape:', X_test.shape)\n",
    "print('y_train shape:', y_train.shape)\n",
    "print('y_test shape:', y_test.shape)"
   ]
  },
  {
   "cell_type": "code",
   "execution_count": 23,
   "metadata": {},
   "outputs": [],
   "source": [
    "class LSTM(torch.nn.Module):\n",
    "    def __init__(self, input_dim, hidden_dim, num_layers, output_dim):\n",
    "        super(LSTM, self).__init__()\n",
    "        self.hidden_dim = hidden_dim\n",
    "        self.num_layers = num_layers\n",
    "        self.lstm = torch.nn.LSTM(input_dim, hidden_dim, num_layers, batch_first=True)\n",
    "        self.fc = torch.nn.Linear(hidden_dim, output_dim)\n",
    "\n",
    "    def forward(self, x):\n",
    "        h0 = torch.zeros(self.num_layers, x.size(0), self.hidden_dim).requires_grad_()\n",
    "        c0 = torch.zeros(self.num_layers, x.size(0), self.hidden_dim).requires_grad_()\n",
    "        out, (hn, cn) = self.lstm(x, (h0.detach(), c0.detach())) #2\n",
    "        out = self.fc(out[:, -1, :]) \n",
    "        return out"
   ]
  },
  {
   "cell_type": "code",
   "execution_count": 26,
   "metadata": {},
   "outputs": [],
   "source": [
    "input_dim = 1\n",
    "hidden_dim = 32\n",
    "num_layers = 2\n",
    "output_dim = 1\n",
    "learning_rate = 0.01\n",
    "num_epochs = 200"
   ]
  },
  {
   "cell_type": "code",
   "execution_count": 33,
   "metadata": {},
   "outputs": [],
   "source": [
    "model = LSTM(input_dim, hidden_dim, num_layers, output_dim)\n",
    "loss = torch.nn.MSELoss()\n",
    "optimizer = torch.optim.Adam(model.parameters(), lr=learning_rate)"
   ]
  },
  {
   "cell_type": "code",
   "execution_count": 34,
   "metadata": {},
   "outputs": [
    {
     "name": "stdout",
     "output_type": "stream",
     "text": [
      "Epoch 1 - MSE: 0.11497717350721359\n",
      "Epoch 2 - MSE: 0.06543207168579102\n",
      "Epoch 3 - MSE: 0.0687997043132782\n",
      "Epoch 4 - MSE: 0.061364658176898956\n",
      "Epoch 5 - MSE: 0.05406193062663078\n",
      "Epoch 6 - MSE: 0.05280723795294762\n",
      "Epoch 7 - MSE: 0.0524970106780529\n",
      "Epoch 8 - MSE: 0.049926623702049255\n",
      "Epoch 9 - MSE: 0.04382172226905823\n",
      "Epoch 10 - MSE: 0.03421051800251007\n",
      "Epoch 11 - MSE: 0.0246112123131752\n",
      "Epoch 12 - MSE: 0.0211892519146204\n",
      "Epoch 13 - MSE: 0.008123907260596752\n",
      "Epoch 14 - MSE: 0.001542382873594761\n",
      "Epoch 15 - MSE: 0.010296409949660301\n",
      "Epoch 16 - MSE: 0.012061779387295246\n",
      "Epoch 17 - MSE: 0.009255765937268734\n",
      "Epoch 18 - MSE: 0.004292548634111881\n",
      "Epoch 19 - MSE: 0.0017399478238075972\n",
      "Epoch 20 - MSE: 0.002112601650878787\n",
      "Epoch 21 - MSE: 0.0031170726288110018\n",
      "Epoch 22 - MSE: 0.004004708491265774\n",
      "Epoch 23 - MSE: 0.004645800217986107\n",
      "Epoch 24 - MSE: 0.004674411844462156\n",
      "Epoch 25 - MSE: 0.003943865653127432\n",
      "Epoch 26 - MSE: 0.002925117267295718\n",
      "Epoch 27 - MSE: 0.0021404121071100235\n",
      "Epoch 28 - MSE: 0.0017041589599102736\n",
      "Epoch 29 - MSE: 0.0015764215495437384\n",
      "Epoch 30 - MSE: 0.0017910519381985068\n",
      "Epoch 31 - MSE: 0.002195180393755436\n",
      "Epoch 32 - MSE: 0.00242359540425241\n",
      "Epoch 33 - MSE: 0.0023916801437735558\n",
      "Epoch 34 - MSE: 0.002213391475379467\n",
      "Epoch 35 - MSE: 0.0018817050149664283\n",
      "Epoch 36 - MSE: 0.0014516612282022834\n",
      "Epoch 37 - MSE: 0.0011433780891820788\n",
      "Epoch 38 - MSE: 0.0010911822319030762\n",
      "Epoch 39 - MSE: 0.0011925435392186046\n",
      "Epoch 40 - MSE: 0.0012970915995538235\n",
      "Epoch 41 - MSE: 0.0013708615442737937\n",
      "Epoch 42 - MSE: 0.0013890523696318269\n",
      "Epoch 43 - MSE: 0.0012803954305127263\n",
      "Epoch 44 - MSE: 0.0010556696215644479\n",
      "Epoch 45 - MSE: 0.0008543484727852046\n",
      "Epoch 46 - MSE: 0.0007817348232492805\n",
      "Epoch 47 - MSE: 0.0007829245296306908\n",
      "Epoch 48 - MSE: 0.0007959987269714475\n",
      "Epoch 49 - MSE: 0.000839779619127512\n",
      "Epoch 50 - MSE: 0.0008587521151639521\n",
      "Epoch 51 - MSE: 0.0007768478244543076\n",
      "Epoch 52 - MSE: 0.0006570445257239044\n",
      "Epoch 53 - MSE: 0.0005836677155457437\n",
      "Epoch 54 - MSE: 0.0005366205587051809\n",
      "Epoch 55 - MSE: 0.0005136668332852423\n",
      "Epoch 56 - MSE: 0.0005391578306443989\n",
      "Epoch 57 - MSE: 0.0005616421112790704\n",
      "Epoch 58 - MSE: 0.0005334453890100121\n",
      "Epoch 59 - MSE: 0.000483300827909261\n",
      "Epoch 60 - MSE: 0.0004370198876131326\n",
      "Epoch 61 - MSE: 0.00039046999881975353\n",
      "Epoch 62 - MSE: 0.0003698420769069344\n",
      "Epoch 63 - MSE: 0.00038243128801696\n",
      "Epoch 64 - MSE: 0.00038776572910137475\n",
      "Epoch 65 - MSE: 0.0003763881395570934\n",
      "Epoch 66 - MSE: 0.00035754829877987504\n",
      "Epoch 67 - MSE: 0.0003242693201173097\n",
      "Epoch 68 - MSE: 0.0002969222259707749\n",
      "Epoch 69 - MSE: 0.00029138123500160873\n",
      "Epoch 70 - MSE: 0.00029176141833886504\n",
      "Epoch 71 - MSE: 0.0002923730353359133\n",
      "Epoch 72 - MSE: 0.0002887925656978041\n",
      "Epoch 73 - MSE: 0.0002716185699682683\n",
      "Epoch 74 - MSE: 0.0002530392666812986\n",
      "Epoch 75 - MSE: 0.00024273167946375906\n",
      "Epoch 76 - MSE: 0.0002372576855123043\n",
      "Epoch 77 - MSE: 0.00023830955615267158\n",
      "Epoch 78 - MSE: 0.00023810775019228458\n",
      "Epoch 79 - MSE: 0.00022962396906223148\n",
      "Epoch 80 - MSE: 0.00021989666856825352\n",
      "Epoch 81 - MSE: 0.00021054031094536185\n",
      "Epoch 82 - MSE: 0.000205002652364783\n",
      "Epoch 83 - MSE: 0.00020515099458862096\n",
      "Epoch 84 - MSE: 0.00020371933351270854\n",
      "Epoch 85 - MSE: 0.00020000453514512628\n",
      "Epoch 86 - MSE: 0.00019431755936238915\n",
      "Epoch 87 - MSE: 0.00018723968241829425\n",
      "Epoch 88 - MSE: 0.00018375556101091206\n",
      "Epoch 89 - MSE: 0.00018224552331957966\n",
      "Epoch 90 - MSE: 0.00018090727098751813\n",
      "Epoch 91 - MSE: 0.0001789623056538403\n",
      "Epoch 92 - MSE: 0.00017445243429392576\n",
      "Epoch 93 - MSE: 0.00017046899301931262\n",
      "Epoch 94 - MSE: 0.0001677103282418102\n",
      "Epoch 95 - MSE: 0.0001660759880905971\n",
      "Epoch 96 - MSE: 0.00016527478874195367\n",
      "Epoch 97 - MSE: 0.00016303286247421056\n",
      "Epoch 98 - MSE: 0.00016031076665967703\n",
      "Epoch 99 - MSE: 0.00015751653700135648\n",
      "Epoch 100 - MSE: 0.0001554387272335589\n",
      "Epoch 101 - MSE: 0.00015445357712451369\n",
      "Epoch 102 - MSE: 0.00015313451876863837\n",
      "Epoch 103 - MSE: 0.00015157469897530973\n",
      "Epoch 104 - MSE: 0.00014940333494450897\n",
      "Epoch 105 - MSE: 0.00014750089030712843\n",
      "Epoch 106 - MSE: 0.00014620980073232204\n",
      "Epoch 107 - MSE: 0.0001451335847377777\n",
      "Epoch 108 - MSE: 0.00014411508163902909\n",
      "Epoch 109 - MSE: 0.0001425757072865963\n",
      "Epoch 110 - MSE: 0.00014108502364251763\n",
      "Epoch 111 - MSE: 0.00013972900342196226\n",
      "Epoch 112 - MSE: 0.00013875812874175608\n",
      "Epoch 113 - MSE: 0.00013787393982056528\n",
      "Epoch 114 - MSE: 0.00013679955736733973\n",
      "Epoch 115 - MSE: 0.0001356357679469511\n",
      "Epoch 116 - MSE: 0.00013445293006952852\n",
      "Epoch 117 - MSE: 0.00013356321142055094\n",
      "Epoch 118 - MSE: 0.0001327342033619061\n",
      "Epoch 119 - MSE: 0.00013193920312914997\n",
      "Epoch 120 - MSE: 0.00013097892224323004\n",
      "Epoch 121 - MSE: 0.0001300500734942034\n",
      "Epoch 122 - MSE: 0.00012920454901177436\n",
      "Epoch 123 - MSE: 0.0001284950994886458\n",
      "Epoch 124 - MSE: 0.00012779602548107505\n",
      "Epoch 125 - MSE: 0.0001270378561457619\n",
      "Epoch 126 - MSE: 0.00012626306852325797\n",
      "Epoch 127 - MSE: 0.00012553588021546602\n",
      "Epoch 128 - MSE: 0.0001249069900950417\n",
      "Epoch 129 - MSE: 0.00012429272464942187\n",
      "Epoch 130 - MSE: 0.0001236696116393432\n",
      "Epoch 131 - MSE: 0.00012301153037697077\n",
      "Epoch 132 - MSE: 0.00012240120850037783\n",
      "Epoch 133 - MSE: 0.00012183219223516062\n",
      "Epoch 134 - MSE: 0.00012130706454627216\n",
      "Epoch 135 - MSE: 0.00012076042912667617\n",
      "Epoch 136 - MSE: 0.00012021628208458424\n",
      "Epoch 137 - MSE: 0.00011968169565079734\n",
      "Epoch 138 - MSE: 0.00011919584358111024\n",
      "Epoch 139 - MSE: 0.00011872482718899846\n",
      "Epoch 140 - MSE: 0.00011825958063127473\n",
      "Epoch 141 - MSE: 0.00011778440966736525\n",
      "Epoch 142 - MSE: 0.00011733042629202828\n",
      "Epoch 143 - MSE: 0.00011689934763126075\n",
      "Epoch 144 - MSE: 0.00011648835061350837\n",
      "Epoch 145 - MSE: 0.00011607653141254559\n",
      "Epoch 146 - MSE: 0.00011566771718207747\n",
      "Epoch 147 - MSE: 0.00011527217429829761\n",
      "Epoch 148 - MSE: 0.0001148952724179253\n",
      "Epoch 149 - MSE: 0.00011453124170657247\n",
      "Epoch 150 - MSE: 0.00011416829511290416\n",
      "Epoch 151 - MSE: 0.00011381138756405562\n",
      "Epoch 152 - MSE: 0.00011346324754413217\n",
      "Epoch 153 - MSE: 0.00011313143477309495\n",
      "Epoch 154 - MSE: 0.00011280574108241126\n",
      "Epoch 155 - MSE: 0.00011248551891185343\n",
      "Epoch 156 - MSE: 0.00011216865095775574\n",
      "Epoch 157 - MSE: 0.0001118627333198674\n",
      "Epoch 158 - MSE: 0.00011156644177390262\n",
      "Epoch 159 - MSE: 0.00011127557081636041\n",
      "Epoch 160 - MSE: 0.00011098863615188748\n",
      "Epoch 161 - MSE: 0.0001107062998926267\n",
      "Epoch 162 - MSE: 0.00011043291306123137\n",
      "Epoch 163 - MSE: 0.00011016537609975785\n",
      "Epoch 164 - MSE: 0.00010990280861733481\n",
      "Epoch 165 - MSE: 0.00010964347166009247\n",
      "Epoch 166 - MSE: 0.00010938926425296813\n",
      "Epoch 167 - MSE: 0.00010914145968854427\n",
      "Epoch 168 - MSE: 0.00010889786790357903\n",
      "Epoch 169 - MSE: 0.00010865791409742087\n",
      "Epoch 170 - MSE: 0.00010842079063877463\n",
      "Epoch 171 - MSE: 0.00010818830196512863\n",
      "Epoch 172 - MSE: 0.0001079602589015849\n",
      "Epoch 173 - MSE: 0.0001077351116691716\n",
      "Epoch 174 - MSE: 0.0001075128820957616\n",
      "Epoch 175 - MSE: 0.0001072934246622026\n",
      "Epoch 176 - MSE: 0.00010707757610362023\n",
      "Epoch 177 - MSE: 0.00010686465247999877\n",
      "Epoch 178 - MSE: 0.00010665383888408542\n",
      "Epoch 179 - MSE: 0.00010644530993886292\n",
      "Epoch 180 - MSE: 0.00010623908747220412\n",
      "Epoch 181 - MSE: 0.00010603548435028642\n",
      "Epoch 182 - MSE: 0.00010583394760033116\n",
      "Epoch 183 - MSE: 0.00010563393152551726\n",
      "Epoch 184 - MSE: 0.00010543587268330157\n",
      "Epoch 185 - MSE: 0.00010523981472942978\n",
      "Epoch 186 - MSE: 0.00010504544479772449\n",
      "Epoch 187 - MSE: 0.0001048525664373301\n",
      "Epoch 188 - MSE: 0.0001046610195771791\n",
      "Epoch 189 - MSE: 0.00010447106615174562\n",
      "Epoch 190 - MSE: 0.00010428265522932634\n",
      "Epoch 191 - MSE: 0.00010409556125523522\n",
      "Epoch 192 - MSE: 0.00010390967509010807\n",
      "Epoch 193 - MSE: 0.00010372507676947862\n",
      "Epoch 194 - MSE: 0.00010354178084526211\n",
      "Epoch 195 - MSE: 0.00010335977276554331\n",
      "Epoch 196 - MSE: 0.00010317884880350903\n",
      "Epoch 197 - MSE: 0.00010299908899469301\n",
      "Epoch 198 - MSE: 0.00010282048606313765\n",
      "Epoch 199 - MSE: 0.00010264311276841909\n",
      "Epoch 200 - MSE: 0.00010246682359138504\n"
     ]
    }
   ],
   "source": [
    "hist = np.zeros(num_epochs)\n",
    "\n",
    "for t in range(num_epochs):\n",
    "    y_train_pred = model(X_train)\n",
    "\n",
    "    mse = loss(y_train_pred, y_train)\n",
    "    print(\"Epoch\", t+1, \"- MSE:\", mse.item())\n",
    "    hist[t] = mse.item()\n",
    "\n",
    "    optimizer.zero_grad()\n",
    "    mse.backward()\n",
    "    optimizer.step()"
   ]
  },
  {
   "cell_type": "code",
   "execution_count": 55,
   "metadata": {},
   "outputs": [],
   "source": [
    "import pandas as pd\n",
    "import matplotlib.pyplot as plt\n",
    "\n",
    "actual = pd.DataFrame(scaler.inverse_transform(y_train.detach().numpy()))\n",
    "predict = pd.DataFrame(scaler.inverse_transform(y_train_pred.detach().numpy()))"
   ]
  },
  {
   "cell_type": "code",
   "execution_count": 59,
   "metadata": {},
   "outputs": [
    {
     "data": {
      "text/plain": [
       "<matplotlib.legend.Legend at 0x1ef9929eed0>"
      ]
     },
     "execution_count": 59,
     "metadata": {},
     "output_type": "execute_result"
    },
    {
     "data": {
      "image/png": "[encoded data removed]",
      "text/plain": [
       "<Figure size 640x480 with 1 Axes>"
      ]
     },
     "metadata": {},
     "output_type": "display_data"
    }
   ],
   "source": [
    "plt.plot(actual.index, actual[0], label='Actual')\n",
    "plt.plot(predict.index, predict[0], label='Prediction')\n",
    "plt.axis('off')\n",
    "plt.legend()"
   ]
  },
  {
   "cell_type": "code",
   "execution_count": 52,
   "metadata": {},
   "outputs": [
    {
     "data": {
      "text/plain": [
       "Text(0, 0.5, 'Error')"
      ]
     },
     "execution_count": 52,
     "metadata": {},
     "output_type": "execute_result"
    },
    {
     "data": {
      "image/png": "[encoded data removed]",
      "text/plain": [
       "<Figure size 640x480 with 1 Axes>"
      ]
     },
     "metadata": {},
     "output_type": "display_data"
    }
   ],
   "source": [
    "plt.plot(hist)\n",
    "plt.title('MSE')\n",
    "plt.xlabel('Epoch')\n",
    "plt.ylabel('Error')"
   ]
  },
  {
   "cell_type": "code",
   "execution_count": 70,
   "metadata": {},
   "outputs": [],
   "source": [
    "y_test_pred = model(X_test)\n",
    "\n",
    "train_actual = pd.DataFrame(scaler.inverse_transform(y_train.detach().numpy()))\n",
    "train_predict = pd.DataFrame(scaler.inverse_transform(y_train_pred.detach().numpy()))\n",
    "test_actual = pd.DataFrame(scaler.inverse_transform(y_test.detach().numpy()))\n",
    "test_predict = pd.DataFrame(scaler.inverse_transform(y_test_pred.detach().numpy()))"
   ]
  },
  {
   "cell_type": "code",
   "execution_count": 66,
   "metadata": {},
   "outputs": [],
   "source": [
    "from sklearn.metrics import mean_squared_error\n",
    "import math"
   ]
  },
  {
   "cell_type": "code",
   "execution_count": 77,
   "metadata": {},
   "outputs": [
    {
     "name": "stdout",
     "output_type": "stream",
     "text": [
      "Train MSE: 2.023768806582194\n",
      "Test MSE: 3.5502075134662023\n"
     ]
    }
   ],
   "source": [
    "print('Train MSE:', math.sqrt(mean_squared_error(train_actual.loc[:,0], train_predict.loc[:,0])))\n",
    "print('Test MSE:', math.sqrt(mean_squared_error(test_actual.loc[:,0], test_predict.loc[:,0])))"
   ]
  }
 ],
 "metadata": {
  "kernelspec": {
   "display_name": "env",
   "language": "python",
   "name": "python3"
  },
  "language_info": {
   "codemirror_mode": {
    "name": "ipython",
    "version": 3
   },
   "file_extension": ".py",
   "mimetype": "text/x-python",
   "name": "python",
   "nbconvert_exporter": "python",
   "pygments_lexer": "ipython3",
   "version": "3.11.4"
  }
 },
 "nbformat": 4,
 "nbformat_minor": 2
}
