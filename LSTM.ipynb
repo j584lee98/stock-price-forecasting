{
 "cells": [
  {
   "cell_type": "code",
   "execution_count": 1,
   "metadata": {},
   "outputs": [],
   "source": [
    "import yfinance as yf"
   ]
  },
  {
   "cell_type": "code",
   "execution_count": 2,
   "metadata": {},
   "outputs": [
    {
     "name": "stderr",
     "output_type": "stream",
     "text": [
      "[*********************100%%**********************]  1 of 1 completed\n"
     ]
    },
    {
     "data": {
      "text/html": [
       "<div>\n",
       "<style scoped>\n",
       "    .dataframe tbody tr th:only-of-type {\n",
       "        vertical-align: middle;\n",
       "    }\n",
       "\n",
       "    .dataframe tbody tr th {\n",
       "        vertical-align: top;\n",
       "    }\n",
       "\n",
       "    .dataframe thead th {\n",
       "        text-align: right;\n",
       "    }\n",
       "</style>\n",
       "<table border=\"1\" class=\"dataframe\">\n",
       "  <thead>\n",
       "    <tr style=\"text-align: right;\">\n",
       "      <th></th>\n",
       "      <th>Open</th>\n",
       "      <th>High</th>\n",
       "      <th>Low</th>\n",
       "      <th>Close</th>\n",
       "      <th>Adj Close</th>\n",
       "      <th>Volume</th>\n",
       "    </tr>\n",
       "    <tr>\n",
       "      <th>Date</th>\n",
       "      <th></th>\n",
       "      <th></th>\n",
       "      <th></th>\n",
       "      <th></th>\n",
       "      <th></th>\n",
       "      <th></th>\n",
       "    </tr>\n",
       "  </thead>\n",
       "  <tbody>\n",
       "    <tr>\n",
       "      <th>2010-01-04</th>\n",
       "      <td>7.622500</td>\n",
       "      <td>7.660714</td>\n",
       "      <td>7.585000</td>\n",
       "      <td>7.643214</td>\n",
       "      <td>6.470742</td>\n",
       "      <td>493729600</td>\n",
       "    </tr>\n",
       "    <tr>\n",
       "      <th>2010-01-05</th>\n",
       "      <td>7.664286</td>\n",
       "      <td>7.699643</td>\n",
       "      <td>7.616071</td>\n",
       "      <td>7.656429</td>\n",
       "      <td>6.481928</td>\n",
       "      <td>601904800</td>\n",
       "    </tr>\n",
       "    <tr>\n",
       "      <th>2010-01-06</th>\n",
       "      <td>7.656429</td>\n",
       "      <td>7.686786</td>\n",
       "      <td>7.526786</td>\n",
       "      <td>7.534643</td>\n",
       "      <td>6.378823</td>\n",
       "      <td>552160000</td>\n",
       "    </tr>\n",
       "    <tr>\n",
       "      <th>2010-01-07</th>\n",
       "      <td>7.562500</td>\n",
       "      <td>7.571429</td>\n",
       "      <td>7.466071</td>\n",
       "      <td>7.520714</td>\n",
       "      <td>6.367033</td>\n",
       "      <td>477131200</td>\n",
       "    </tr>\n",
       "    <tr>\n",
       "      <th>2010-01-08</th>\n",
       "      <td>7.510714</td>\n",
       "      <td>7.571429</td>\n",
       "      <td>7.466429</td>\n",
       "      <td>7.570714</td>\n",
       "      <td>6.409363</td>\n",
       "      <td>447610800</td>\n",
       "    </tr>\n",
       "    <tr>\n",
       "      <th>...</th>\n",
       "      <td>...</td>\n",
       "      <td>...</td>\n",
       "      <td>...</td>\n",
       "      <td>...</td>\n",
       "      <td>...</td>\n",
       "      <td>...</td>\n",
       "    </tr>\n",
       "    <tr>\n",
       "      <th>2024-04-01</th>\n",
       "      <td>171.190002</td>\n",
       "      <td>171.250000</td>\n",
       "      <td>169.479996</td>\n",
       "      <td>170.029999</td>\n",
       "      <td>170.029999</td>\n",
       "      <td>46240500</td>\n",
       "    </tr>\n",
       "    <tr>\n",
       "      <th>2024-04-02</th>\n",
       "      <td>169.080002</td>\n",
       "      <td>169.339996</td>\n",
       "      <td>168.229996</td>\n",
       "      <td>168.839996</td>\n",
       "      <td>168.839996</td>\n",
       "      <td>49329500</td>\n",
       "    </tr>\n",
       "    <tr>\n",
       "      <th>2024-04-03</th>\n",
       "      <td>168.789993</td>\n",
       "      <td>170.679993</td>\n",
       "      <td>168.580002</td>\n",
       "      <td>169.649994</td>\n",
       "      <td>169.649994</td>\n",
       "      <td>47691700</td>\n",
       "    </tr>\n",
       "    <tr>\n",
       "      <th>2024-04-04</th>\n",
       "      <td>170.289993</td>\n",
       "      <td>171.919998</td>\n",
       "      <td>168.820007</td>\n",
       "      <td>168.820007</td>\n",
       "      <td>168.820007</td>\n",
       "      <td>53704400</td>\n",
       "    </tr>\n",
       "    <tr>\n",
       "      <th>2024-04-05</th>\n",
       "      <td>169.589996</td>\n",
       "      <td>170.389999</td>\n",
       "      <td>168.949997</td>\n",
       "      <td>169.580002</td>\n",
       "      <td>169.580002</td>\n",
       "      <td>42055200</td>\n",
       "    </tr>\n",
       "  </tbody>\n",
       "</table>\n",
       "<p>3588 rows × 6 columns</p>\n",
       "</div>"
      ],
      "text/plain": [
       "                  Open        High         Low       Close   Adj Close  \\\n",
       "Date                                                                     \n",
       "2010-01-04    7.622500    7.660714    7.585000    7.643214    6.470742   \n",
       "2010-01-05    7.664286    7.699643    7.616071    7.656429    6.481928   \n",
       "2010-01-06    7.656429    7.686786    7.526786    7.534643    6.378823   \n",
       "2010-01-07    7.562500    7.571429    7.466071    7.520714    6.367033   \n",
       "2010-01-08    7.510714    7.571429    7.466429    7.570714    6.409363   \n",
       "...                ...         ...         ...         ...         ...   \n",
       "2024-04-01  171.190002  171.250000  169.479996  170.029999  170.029999   \n",
       "2024-04-02  169.080002  169.339996  168.229996  168.839996  168.839996   \n",
       "2024-04-03  168.789993  170.679993  168.580002  169.649994  169.649994   \n",
       "2024-04-04  170.289993  171.919998  168.820007  168.820007  168.820007   \n",
       "2024-04-05  169.589996  170.389999  168.949997  169.580002  169.580002   \n",
       "\n",
       "               Volume  \n",
       "Date                   \n",
       "2010-01-04  493729600  \n",
       "2010-01-05  601904800  \n",
       "2010-01-06  552160000  \n",
       "2010-01-07  477131200  \n",
       "2010-01-08  447610800  \n",
       "...               ...  \n",
       "2024-04-01   46240500  \n",
       "2024-04-02   49329500  \n",
       "2024-04-03   47691700  \n",
       "2024-04-04   53704400  \n",
       "2024-04-05   42055200  \n",
       "\n",
       "[3588 rows x 6 columns]"
      ]
     },
     "execution_count": 2,
     "metadata": {},
     "output_type": "execute_result"
    }
   ],
   "source": [
    "df = yf.download('AAPL', start=\"2010-01-01\")\n",
    "df"
   ]
  },
  {
   "cell_type": "code",
   "execution_count": 3,
   "metadata": {},
   "outputs": [],
   "source": [
    "from sklearn.preprocessing import MinMaxScaler\n",
    "\n",
    "scaler = MinMaxScaler()\n",
    "\n",
    "df_scaled = scaler.fit_transform(df[['Close']])"
   ]
  },
  {
   "cell_type": "code",
   "execution_count": 4,
   "metadata": {},
   "outputs": [
    {
     "data": {
      "text/plain": [
       "array([[0.00410081],\n",
       "       [0.00416991],\n",
       "       [0.00353313],\n",
       "       ...,\n",
       "       [0.85119034],\n",
       "       [0.84685057],\n",
       "       [0.85082437]])"
      ]
     },
     "execution_count": 4,
     "metadata": {},
     "output_type": "execute_result"
    }
   ],
   "source": [
    "df_scaled"
   ]
  },
  {
   "cell_type": "code",
   "execution_count": 5,
   "metadata": {},
   "outputs": [],
   "source": [
    "import numpy as np\n",
    "\n",
    "def train_test_split(data, train_ratio, seq_len):\n",
    "    X = []\n",
    "    y = []\n",
    "    for i in range(seq_len, len(data)):\n",
    "        X.append(data[i-seq_len:i])\n",
    "        y.append(data[i])\n",
    "    split = int(len(data) * train_ratio)\n",
    "    X_train = np.array(X[:split])\n",
    "    X_test = np.array(X[split:])\n",
    "    y_train = np.array(y[:split])\n",
    "    y_test = np.array(y[split:])\n",
    "\n",
    "    return X_train, X_test, y_train, y_test"
   ]
  },
  {
   "cell_type": "code",
   "execution_count": 6,
   "metadata": {},
   "outputs": [],
   "source": [
    "X_train, X_test, y_train, y_test = train_test_split(df_scaled, 0.9, 20)"
   ]
  },
  {
   "cell_type": "code",
   "execution_count": 7,
   "metadata": {},
   "outputs": [
    {
     "name": "stdout",
     "output_type": "stream",
     "text": [
      "X_train shape: (3229, 20, 1)\n",
      "X_test shape: (339, 20, 1)\n",
      "y_train shape: (3229, 1)\n",
      "y_test shape: (339, 1)\n"
     ]
    }
   ],
   "source": [
    "print('X_train shape:', X_train.shape)\n",
    "print('X_test shape:', X_test.shape)\n",
    "print('y_train shape:', y_train.shape)\n",
    "print('y_test shape:', y_test.shape)"
   ]
  },
  {
   "cell_type": "code",
   "execution_count": 8,
   "metadata": {},
   "outputs": [],
   "source": [
    "import torch\n",
    "\n",
    "X_train = torch.from_numpy(X_train).type(torch.Tensor)\n",
    "X_test = torch.from_numpy(X_test).type(torch.Tensor)\n",
    "y_train = torch.from_numpy(y_train).type(torch.Tensor)\n",
    "y_test = torch.from_numpy(y_test).type(torch.Tensor)"
   ]
  },
  {
   "cell_type": "code",
   "execution_count": 9,
   "metadata": {},
   "outputs": [
    {
     "name": "stdout",
     "output_type": "stream",
     "text": [
      "X_train shape: torch.Size([3229, 20, 1])\n",
      "X_test shape: torch.Size([339, 20, 1])\n",
      "y_train shape: torch.Size([3229, 1])\n",
      "y_test shape: torch.Size([339, 1])\n"
     ]
    }
   ],
   "source": [
    "print('X_train shape:', X_train.shape)\n",
    "print('X_test shape:', X_test.shape)\n",
    "print('y_train shape:', y_train.shape)\n",
    "print('y_test shape:', y_test.shape)"
   ]
  },
  {
   "cell_type": "code",
   "execution_count": 10,
   "metadata": {},
   "outputs": [],
   "source": [
    "class LSTM(torch.nn.Module):\n",
    "    def __init__(self, input_dim, hidden_dim, num_layers, output_dim):\n",
    "        super(LSTM, self).__init__()\n",
    "        self.hidden_dim = hidden_dim\n",
    "        self.num_layers = num_layers\n",
    "        self.lstm = torch.nn.LSTM(input_dim, hidden_dim, num_layers, batch_first=True)\n",
    "        self.fc = torch.nn.Linear(hidden_dim, output_dim)\n",
    "\n",
    "    def forward(self, x):\n",
    "        h0 = torch.zeros(self.num_layers, x.size(0), self.hidden_dim).requires_grad_()\n",
    "        c0 = torch.zeros(self.num_layers, x.size(0), self.hidden_dim).requires_grad_()\n",
    "        out, (hn, cn) = self.lstm(x, (h0.detach(), c0.detach())) #2\n",
    "        out = self.fc(out[:, -1, :]) \n",
    "        return out"
   ]
  },
  {
   "cell_type": "code",
   "execution_count": 11,
   "metadata": {},
   "outputs": [],
   "source": [
    "input_dim = 1\n",
    "hidden_dim = 32\n",
    "num_layers = 2\n",
    "output_dim = 1\n",
    "learning_rate = 0.01\n",
    "num_epochs = 200"
   ]
  },
  {
   "cell_type": "code",
   "execution_count": 12,
   "metadata": {},
   "outputs": [],
   "source": [
    "model = LSTM(input_dim, hidden_dim, num_layers, output_dim)\n",
    "loss = torch.nn.MSELoss()\n",
    "optimizer = torch.optim.Adam(model.parameters(), lr=learning_rate)"
   ]
  },
  {
   "cell_type": "code",
   "execution_count": 13,
   "metadata": {},
   "outputs": [
    {
     "name": "stdout",
     "output_type": "stream",
     "text": [
      "Epoch 1 - MSE: 0.12598945200443268\n",
      "Epoch 2 - MSE: 0.07169241458177567\n",
      "Epoch 3 - MSE: 0.05318300798535347\n",
      "Epoch 4 - MSE: 0.07123519480228424\n",
      "Epoch 5 - MSE: 0.051462627947330475\n",
      "Epoch 6 - MSE: 0.044126834720373154\n",
      "Epoch 7 - MSE: 0.0431591235101223\n",
      "Epoch 8 - MSE: 0.03896765038371086\n",
      "Epoch 9 - MSE: 0.024432562291622162\n",
      "Epoch 10 - MSE: 0.004437981639057398\n",
      "Epoch 11 - MSE: 0.02842927910387516\n",
      "Epoch 12 - MSE: 0.007835972122848034\n",
      "Epoch 13 - MSE: 0.003294185968115926\n",
      "Epoch 14 - MSE: 0.012203286401927471\n",
      "Epoch 15 - MSE: 0.014740733429789543\n",
      "Epoch 16 - MSE: 0.009856297634541988\n",
      "Epoch 17 - MSE: 0.0035095266066491604\n",
      "Epoch 18 - MSE: 0.0014633022947236896\n",
      "Epoch 19 - MSE: 0.005487179849296808\n",
      "Epoch 20 - MSE: 0.008714733645319939\n",
      "Epoch 21 - MSE: 0.005547915585339069\n",
      "Epoch 22 - MSE: 0.001840444398112595\n",
      "Epoch 23 - MSE: 0.001485720626078546\n",
      "Epoch 24 - MSE: 0.0031554142478853464\n",
      "Epoch 25 - MSE: 0.004548544064164162\n",
      "Epoch 26 - MSE: 0.004472769796848297\n",
      "Epoch 27 - MSE: 0.0031530947890132666\n",
      "Epoch 28 - MSE: 0.0017149982741102576\n",
      "Epoch 29 - MSE: 0.0012406827881932259\n",
      "Epoch 30 - MSE: 0.0018748886650428176\n",
      "Epoch 31 - MSE: 0.0026658924762159586\n",
      "Epoch 32 - MSE: 0.002617026213556528\n",
      "Epoch 33 - MSE: 0.0018523967592045665\n",
      "Epoch 34 - MSE: 0.001248377375304699\n",
      "Epoch 35 - MSE: 0.00129652617033571\n",
      "Epoch 36 - MSE: 0.0017371060093864799\n",
      "Epoch 37 - MSE: 0.00201129587367177\n",
      "Epoch 38 - MSE: 0.0018202593782916665\n",
      "Epoch 39 - MSE: 0.0013263673754408956\n",
      "Epoch 40 - MSE: 0.0009551714174449444\n",
      "Epoch 41 - MSE: 0.0009863050654530525\n",
      "Epoch 42 - MSE: 0.0012808634201064706\n",
      "Epoch 43 - MSE: 0.001443084329366684\n",
      "Epoch 44 - MSE: 0.0012668637791648507\n",
      "Epoch 45 - MSE: 0.0009364745346829295\n",
      "Epoch 46 - MSE: 0.000760725000873208\n",
      "Epoch 47 - MSE: 0.0008241409668698907\n",
      "Epoch 48 - MSE: 0.0009560275357216597\n",
      "Epoch 49 - MSE: 0.0009636846370995045\n",
      "Epoch 50 - MSE: 0.0008257605950348079\n",
      "Epoch 51 - MSE: 0.0006772486958652735\n",
      "Epoch 52 - MSE: 0.0006430346402339637\n",
      "Epoch 53 - MSE: 0.0006989611429162323\n",
      "Epoch 54 - MSE: 0.0007160777458921075\n",
      "Epoch 55 - MSE: 0.0006364112487062812\n",
      "Epoch 56 - MSE: 0.0005410154699347913\n",
      "Epoch 57 - MSE: 0.0005233094561845064\n",
      "Epoch 58 - MSE: 0.0005644101183861494\n",
      "Epoch 59 - MSE: 0.0005737085011787713\n",
      "Epoch 60 - MSE: 0.000512964790686965\n",
      "Epoch 61 - MSE: 0.0004378769372124225\n",
      "Epoch 62 - MSE: 0.00041902667726390064\n",
      "Epoch 63 - MSE: 0.0004498651542235166\n",
      "Epoch 64 - MSE: 0.0004602691624313593\n",
      "Epoch 65 - MSE: 0.0004159322415944189\n",
      "Epoch 66 - MSE: 0.00036115257535129786\n",
      "Epoch 67 - MSE: 0.00034833146492019296\n",
      "Epoch 68 - MSE: 0.00036661940976046026\n",
      "Epoch 69 - MSE: 0.00036731141153723\n",
      "Epoch 70 - MSE: 0.0003355770604684949\n",
      "Epoch 71 - MSE: 0.0003047909412998706\n",
      "Epoch 72 - MSE: 0.0003015657712239772\n",
      "Epoch 73 - MSE: 0.0003084058698732406\n",
      "Epoch 74 - MSE: 0.0002978406846523285\n",
      "Epoch 75 - MSE: 0.0002761873183771968\n",
      "Epoch 76 - MSE: 0.00026673360844142735\n",
      "Epoch 77 - MSE: 0.00026977257221005857\n",
      "Epoch 78 - MSE: 0.0002663049381226301\n",
      "Epoch 79 - MSE: 0.00025132045266218483\n",
      "Epoch 80 - MSE: 0.0002402359968982637\n",
      "Epoch 81 - MSE: 0.00024143059272319078\n",
      "Epoch 82 - MSE: 0.00024251019931398332\n",
      "Epoch 83 - MSE: 0.00023300317116081715\n",
      "Epoch 84 - MSE: 0.00022196654754225165\n",
      "Epoch 85 - MSE: 0.0002203639451181516\n",
      "Epoch 86 - MSE: 0.00022268005704972893\n",
      "Epoch 87 - MSE: 0.00021846438175998628\n",
      "Epoch 88 - MSE: 0.0002098839613609016\n",
      "Epoch 89 - MSE: 0.00020604145538527519\n",
      "Epoch 90 - MSE: 0.00020692044927272946\n",
      "Epoch 91 - MSE: 0.00020509434398263693\n",
      "Epoch 92 - MSE: 0.0001997007057070732\n",
      "Epoch 93 - MSE: 0.00019642460392788053\n",
      "Epoch 94 - MSE: 0.00019613621407188475\n",
      "Epoch 95 - MSE: 0.00019452095148153603\n",
      "Epoch 96 - MSE: 0.00019092665752395988\n",
      "Epoch 97 - MSE: 0.00018875417299568653\n",
      "Epoch 98 - MSE: 0.0001883307850221172\n",
      "Epoch 99 - MSE: 0.000186702047358267\n",
      "Epoch 100 - MSE: 0.00018381568952463567\n",
      "Epoch 101 - MSE: 0.0001823364436859265\n",
      "Epoch 102 - MSE: 0.00018211024871561676\n",
      "Epoch 103 - MSE: 0.00018071172235067934\n",
      "Epoch 104 - MSE: 0.0001783466577762738\n",
      "Epoch 105 - MSE: 0.00017714897694531828\n",
      "Epoch 106 - MSE: 0.0001768975198501721\n",
      "Epoch 107 - MSE: 0.00017576267418917269\n",
      "Epoch 108 - MSE: 0.00017396982002537698\n",
      "Epoch 109 - MSE: 0.0001730042276903987\n",
      "Epoch 110 - MSE: 0.000172603438841179\n",
      "Epoch 111 - MSE: 0.00017161098367068917\n",
      "Epoch 112 - MSE: 0.00017033315089065582\n",
      "Epoch 113 - MSE: 0.00016961380606517196\n",
      "Epoch 114 - MSE: 0.00016908023098949343\n",
      "Epoch 115 - MSE: 0.0001681591384112835\n",
      "Epoch 116 - MSE: 0.0001672708458499983\n",
      "Epoch 117 - MSE: 0.00016675233200658113\n",
      "Epoch 118 - MSE: 0.000166155252372846\n",
      "Epoch 119 - MSE: 0.0001653167710173875\n",
      "Epoch 120 - MSE: 0.0001646761957090348\n",
      "Epoch 121 - MSE: 0.00016425912326667458\n",
      "Epoch 122 - MSE: 0.0001636568340472877\n",
      "Epoch 123 - MSE: 0.00016294128727167845\n",
      "Epoch 124 - MSE: 0.00016245583537966013\n",
      "Epoch 125 - MSE: 0.0001620617404114455\n",
      "Epoch 126 - MSE: 0.0001614934444660321\n",
      "Epoch 127 - MSE: 0.00016091798897832632\n",
      "Epoch 128 - MSE: 0.00016051392594818026\n",
      "Epoch 129 - MSE: 0.00016010708350222558\n",
      "Epoch 130 - MSE: 0.00015960063319653273\n",
      "Epoch 131 - MSE: 0.00015915169205982238\n",
      "Epoch 132 - MSE: 0.0001587831211509183\n",
      "Epoch 133 - MSE: 0.00015836871170904487\n",
      "Epoch 134 - MSE: 0.00015793732018209994\n",
      "Epoch 135 - MSE: 0.0001575729693286121\n",
      "Epoch 136 - MSE: 0.00015721296949777752\n",
      "Epoch 137 - MSE: 0.00015681494551245123\n",
      "Epoch 138 - MSE: 0.000156452864757739\n",
      "Epoch 139 - MSE: 0.00015612971037626266\n",
      "Epoch 140 - MSE: 0.00015577532758470625\n",
      "Epoch 141 - MSE: 0.0001554146729176864\n",
      "Epoch 142 - MSE: 0.00015509982767980546\n",
      "Epoch 143 - MSE: 0.0001547889260109514\n",
      "Epoch 144 - MSE: 0.00015445156896021217\n",
      "Epoch 145 - MSE: 0.00015413275104947388\n",
      "Epoch 146 - MSE: 0.00015384027210529894\n",
      "Epoch 147 - MSE: 0.00015353504568338394\n",
      "Epoch 148 - MSE: 0.00015322549734264612\n",
      "Epoch 149 - MSE: 0.00015293700562324375\n",
      "Epoch 150 - MSE: 0.00015265174442902207\n",
      "Epoch 151 - MSE: 0.00015235879982355982\n",
      "Epoch 152 - MSE: 0.0001520767982583493\n",
      "Epoch 153 - MSE: 0.0001518029603175819\n",
      "Epoch 154 - MSE: 0.00015152341802604496\n",
      "Epoch 155 - MSE: 0.00015124856145121157\n",
      "Epoch 156 - MSE: 0.0001509839785285294\n",
      "Epoch 157 - MSE: 0.00015071636880747974\n",
      "Epoch 158 - MSE: 0.0001504476967966184\n",
      "Epoch 159 - MSE: 0.0001501885271864012\n",
      "Epoch 160 - MSE: 0.0001499313657404855\n",
      "Epoch 161 - MSE: 0.00014967047900427133\n",
      "Epoch 162 - MSE: 0.00014941459812689573\n",
      "Epoch 163 - MSE: 0.00014916386862751096\n",
      "Epoch 164 - MSE: 0.000148911087308079\n",
      "Epoch 165 - MSE: 0.00014865948469378054\n",
      "Epoch 166 - MSE: 0.00014841245138086379\n",
      "Epoch 167 - MSE: 0.0001481656654505059\n",
      "Epoch 168 - MSE: 0.00014791877765674144\n",
      "Epoch 169 - MSE: 0.0001476751931477338\n",
      "Epoch 170 - MSE: 0.00014743251085747033\n",
      "Epoch 171 - MSE: 0.0001471895375289023\n",
      "Epoch 172 - MSE: 0.00014694893616251647\n",
      "Epoch 173 - MSE: 0.00014670970267616212\n",
      "Epoch 174 - MSE: 0.00014646984345745295\n",
      "Epoch 175 - MSE: 0.00014623154129367322\n",
      "Epoch 176 - MSE: 0.00014599497080780566\n",
      "Epoch 177 - MSE: 0.0001457578910049051\n",
      "Epoch 178 - MSE: 0.00014552146603818983\n",
      "Epoch 179 - MSE: 0.00014528661267831922\n",
      "Epoch 180 - MSE: 0.00014505183207802474\n",
      "Epoch 181 - MSE: 0.00014481713878922164\n",
      "Epoch 182 - MSE: 0.00014458352234214544\n",
      "Epoch 183 - MSE: 0.00014435026969294995\n",
      "Epoch 184 - MSE: 0.000144116987939924\n",
      "Epoch 185 - MSE: 0.00014388437557499856\n",
      "Epoch 186 - MSE: 0.0001436521124560386\n",
      "Epoch 187 - MSE: 0.00014341976202558726\n",
      "Epoch 188 - MSE: 0.0001431879645679146\n",
      "Epoch 189 - MSE: 0.00014295632718130946\n",
      "Epoch 190 - MSE: 0.00014272461703512818\n",
      "Epoch 191 - MSE: 0.00014249312516767532\n",
      "Epoch 192 - MSE: 0.0001422618661308661\n",
      "Epoch 193 - MSE: 0.00014203038881532848\n",
      "Epoch 194 - MSE: 0.00014179902791511267\n",
      "Epoch 195 - MSE: 0.00014156772522255778\n",
      "Epoch 196 - MSE: 0.00014133624790702015\n",
      "Epoch 197 - MSE: 0.00014110463962424546\n",
      "Epoch 198 - MSE: 0.00014087300223764032\n",
      "Epoch 199 - MSE: 0.00014064119022805244\n",
      "Epoch 200 - MSE: 0.00014040913083590567\n"
     ]
    }
   ],
   "source": [
    "hist = np.zeros(num_epochs)\n",
    "\n",
    "for t in range(num_epochs):\n",
    "    y_train_pred = model(X_train)\n",
    "\n",
    "    mse = loss(y_train_pred, y_train)\n",
    "    print(\"Epoch\", t+1, \"- MSE:\", mse.item())\n",
    "    hist[t] = mse.item()\n",
    "\n",
    "    optimizer.zero_grad()\n",
    "    mse.backward()\n",
    "    optimizer.step()"
   ]
  },
  {
   "cell_type": "code",
   "execution_count": 14,
   "metadata": {},
   "outputs": [],
   "source": [
    "import pandas as pd\n",
    "import matplotlib.pyplot as plt\n",
    "\n",
    "actual = pd.DataFrame(scaler.inverse_transform(y_train.detach().numpy()))\n",
    "predict = pd.DataFrame(scaler.inverse_transform(y_train_pred.detach().numpy()))"
   ]
  },
  {
   "cell_type": "code",
   "execution_count": 15,
   "metadata": {},
   "outputs": [
    {
     "data": {
      "text/plain": [
       "<matplotlib.legend.Legend at 0x244aa80d150>"
      ]
     },
     "execution_count": 15,
     "metadata": {},
     "output_type": "execute_result"
    },
    {
     "data": {
      "image/png": "[encoded data removed]",
      "text/plain": [
       "<Figure size 640x480 with 1 Axes>"
      ]
     },
     "metadata": {},
     "output_type": "display_data"
    }
   ],
   "source": [
    "plt.plot(actual.index, actual[0], label='Actual')\n",
    "plt.plot(predict.index, predict[0], label='Prediction')\n",
    "plt.axis('off')\n",
    "plt.legend()"
   ]
  },
  {
   "cell_type": "code",
   "execution_count": 16,
   "metadata": {},
   "outputs": [
    {
     "data": {
      "text/plain": [
       "Text(0, 0.5, 'Error')"
      ]
     },
     "execution_count": 16,
     "metadata": {},
     "output_type": "execute_result"
    },
    {
     "data": {
      "image/png": "[encoded data removed]",
      "text/plain": [
       "<Figure size 640x480 with 1 Axes>"
      ]
     },
     "metadata": {},
     "output_type": "display_data"
    }
   ],
   "source": [
    "plt.plot(hist)\n",
    "plt.title('MSE')\n",
    "plt.xlabel('Epoch')\n",
    "plt.ylabel('Error')"
   ]
  },
  {
   "cell_type": "code",
   "execution_count": 17,
   "metadata": {},
   "outputs": [],
   "source": [
    "y_test_pred = model(X_test)\n",
    "\n",
    "train_actual = pd.DataFrame(scaler.inverse_transform(y_train.detach().numpy()))\n",
    "train_predict = pd.DataFrame(scaler.inverse_transform(y_train_pred.detach().numpy()))\n",
    "test_actual = pd.DataFrame(scaler.inverse_transform(y_test.detach().numpy()))\n",
    "test_predict = pd.DataFrame(scaler.inverse_transform(y_test_pred.detach().numpy()))"
   ]
  },
  {
   "cell_type": "code",
   "execution_count": 18,
   "metadata": {},
   "outputs": [],
   "source": [
    "from sklearn.metrics import mean_squared_error\n",
    "import math"
   ]
  },
  {
   "cell_type": "code",
   "execution_count": 19,
   "metadata": {},
   "outputs": [
    {
     "name": "stdout",
     "output_type": "stream",
     "text": [
      "Train RMSE: 2.2662174897089735\n",
      "Test RMSE: 5.253399248016242\n"
     ]
    }
   ],
   "source": [
    "print('Train RMSE:', math.sqrt(mean_squared_error(train_actual.loc[:,0], train_predict.loc[:,0])))\n",
    "print('Test RMSE:', math.sqrt(mean_squared_error(test_actual.loc[:,0], test_predict.loc[:,0])))"
   ]
  }
 ],
 "metadata": {
  "kernelspec": {
   "display_name": "env",
   "language": "python",
   "name": "python3"
  },
  "language_info": {
   "codemirror_mode": {
    "name": "ipython",
    "version": 3
   },
   "file_extension": ".py",
   "mimetype": "text/x-python",
   "name": "python",
   "nbconvert_exporter": "python",
   "pygments_lexer": "ipython3",
   "version": "3.11.4"
  }
 },
 "nbformat": 4,
 "nbformat_minor": 2
}
