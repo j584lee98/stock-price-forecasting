{
 "cells": [
  {
   "cell_type": "code",
   "execution_count": 1,
   "metadata": {},
   "outputs": [],
   "source": [
    "import yfinance as yf"
   ]
  },
  {
   "cell_type": "code",
   "execution_count": 2,
   "metadata": {},
   "outputs": [
    {
     "name": "stderr",
     "output_type": "stream",
     "text": [
      "[*********************100%%**********************]  1 of 1 completed\n"
     ]
    },
    {
     "data": {
      "text/html": [
       "<div>\n",
       "<style scoped>\n",
       "    .dataframe tbody tr th:only-of-type {\n",
       "        vertical-align: middle;\n",
       "    }\n",
       "\n",
       "    .dataframe tbody tr th {\n",
       "        vertical-align: top;\n",
       "    }\n",
       "\n",
       "    .dataframe thead th {\n",
       "        text-align: right;\n",
       "    }\n",
       "</style>\n",
       "<table border=\"1\" class=\"dataframe\">\n",
       "  <thead>\n",
       "    <tr style=\"text-align: right;\">\n",
       "      <th></th>\n",
       "      <th>Open</th>\n",
       "      <th>High</th>\n",
       "      <th>Low</th>\n",
       "      <th>Close</th>\n",
       "      <th>Adj Close</th>\n",
       "      <th>Volume</th>\n",
       "    </tr>\n",
       "    <tr>\n",
       "      <th>Date</th>\n",
       "      <th></th>\n",
       "      <th></th>\n",
       "      <th></th>\n",
       "      <th></th>\n",
       "      <th></th>\n",
       "      <th></th>\n",
       "    </tr>\n",
       "  </thead>\n",
       "  <tbody>\n",
       "    <tr>\n",
       "      <th>2010-01-04</th>\n",
       "      <td>7.622500</td>\n",
       "      <td>7.660714</td>\n",
       "      <td>7.585000</td>\n",
       "      <td>7.643214</td>\n",
       "      <td>6.470740</td>\n",
       "      <td>493729600</td>\n",
       "    </tr>\n",
       "    <tr>\n",
       "      <th>2010-01-05</th>\n",
       "      <td>7.664286</td>\n",
       "      <td>7.699643</td>\n",
       "      <td>7.616071</td>\n",
       "      <td>7.656429</td>\n",
       "      <td>6.481928</td>\n",
       "      <td>601904800</td>\n",
       "    </tr>\n",
       "    <tr>\n",
       "      <th>2010-01-06</th>\n",
       "      <td>7.656429</td>\n",
       "      <td>7.686786</td>\n",
       "      <td>7.526786</td>\n",
       "      <td>7.534643</td>\n",
       "      <td>6.378825</td>\n",
       "      <td>552160000</td>\n",
       "    </tr>\n",
       "    <tr>\n",
       "      <th>2010-01-07</th>\n",
       "      <td>7.562500</td>\n",
       "      <td>7.571429</td>\n",
       "      <td>7.466071</td>\n",
       "      <td>7.520714</td>\n",
       "      <td>6.367031</td>\n",
       "      <td>477131200</td>\n",
       "    </tr>\n",
       "    <tr>\n",
       "      <th>2010-01-08</th>\n",
       "      <td>7.510714</td>\n",
       "      <td>7.571429</td>\n",
       "      <td>7.466429</td>\n",
       "      <td>7.570714</td>\n",
       "      <td>6.409362</td>\n",
       "      <td>447610800</td>\n",
       "    </tr>\n",
       "    <tr>\n",
       "      <th>...</th>\n",
       "      <td>...</td>\n",
       "      <td>...</td>\n",
       "      <td>...</td>\n",
       "      <td>...</td>\n",
       "      <td>...</td>\n",
       "      <td>...</td>\n",
       "    </tr>\n",
       "    <tr>\n",
       "      <th>2024-04-01</th>\n",
       "      <td>171.190002</td>\n",
       "      <td>171.250000</td>\n",
       "      <td>169.479996</td>\n",
       "      <td>170.029999</td>\n",
       "      <td>170.029999</td>\n",
       "      <td>46240500</td>\n",
       "    </tr>\n",
       "    <tr>\n",
       "      <th>2024-04-02</th>\n",
       "      <td>169.080002</td>\n",
       "      <td>169.339996</td>\n",
       "      <td>168.229996</td>\n",
       "      <td>168.839996</td>\n",
       "      <td>168.839996</td>\n",
       "      <td>49329500</td>\n",
       "    </tr>\n",
       "    <tr>\n",
       "      <th>2024-04-03</th>\n",
       "      <td>168.789993</td>\n",
       "      <td>170.679993</td>\n",
       "      <td>168.580002</td>\n",
       "      <td>169.649994</td>\n",
       "      <td>169.649994</td>\n",
       "      <td>47691700</td>\n",
       "    </tr>\n",
       "    <tr>\n",
       "      <th>2024-04-04</th>\n",
       "      <td>170.289993</td>\n",
       "      <td>171.919998</td>\n",
       "      <td>168.820007</td>\n",
       "      <td>168.820007</td>\n",
       "      <td>168.820007</td>\n",
       "      <td>53704400</td>\n",
       "    </tr>\n",
       "    <tr>\n",
       "      <th>2024-04-05</th>\n",
       "      <td>169.589996</td>\n",
       "      <td>170.389999</td>\n",
       "      <td>168.949997</td>\n",
       "      <td>169.580002</td>\n",
       "      <td>169.580002</td>\n",
       "      <td>42055200</td>\n",
       "    </tr>\n",
       "  </tbody>\n",
       "</table>\n",
       "<p>3588 rows × 6 columns</p>\n",
       "</div>"
      ],
      "text/plain": [
       "                  Open        High         Low       Close   Adj Close  \\\n",
       "Date                                                                     \n",
       "2010-01-04    7.622500    7.660714    7.585000    7.643214    6.470740   \n",
       "2010-01-05    7.664286    7.699643    7.616071    7.656429    6.481928   \n",
       "2010-01-06    7.656429    7.686786    7.526786    7.534643    6.378825   \n",
       "2010-01-07    7.562500    7.571429    7.466071    7.520714    6.367031   \n",
       "2010-01-08    7.510714    7.571429    7.466429    7.570714    6.409362   \n",
       "...                ...         ...         ...         ...         ...   \n",
       "2024-04-01  171.190002  171.250000  169.479996  170.029999  170.029999   \n",
       "2024-04-02  169.080002  169.339996  168.229996  168.839996  168.839996   \n",
       "2024-04-03  168.789993  170.679993  168.580002  169.649994  169.649994   \n",
       "2024-04-04  170.289993  171.919998  168.820007  168.820007  168.820007   \n",
       "2024-04-05  169.589996  170.389999  168.949997  169.580002  169.580002   \n",
       "\n",
       "               Volume  \n",
       "Date                   \n",
       "2010-01-04  493729600  \n",
       "2010-01-05  601904800  \n",
       "2010-01-06  552160000  \n",
       "2010-01-07  477131200  \n",
       "2010-01-08  447610800  \n",
       "...               ...  \n",
       "2024-04-01   46240500  \n",
       "2024-04-02   49329500  \n",
       "2024-04-03   47691700  \n",
       "2024-04-04   53704400  \n",
       "2024-04-05   42055200  \n",
       "\n",
       "[3588 rows x 6 columns]"
      ]
     },
     "execution_count": 2,
     "metadata": {},
     "output_type": "execute_result"
    }
   ],
   "source": [
    "df = yf.download('AAPL', start=\"2010-01-01\")\n",
    "df"
   ]
  },
  {
   "cell_type": "code",
   "execution_count": 3,
   "metadata": {},
   "outputs": [],
   "source": [
    "from sklearn.preprocessing import MinMaxScaler\n",
    "\n",
    "scaler = MinMaxScaler()\n",
    "\n",
    "df_scaled = scaler.fit_transform(df[['Close']])"
   ]
  },
  {
   "cell_type": "code",
   "execution_count": 4,
   "metadata": {},
   "outputs": [
    {
     "data": {
      "text/plain": [
       "array([[0.00410081],\n",
       "       [0.00416991],\n",
       "       [0.00353313],\n",
       "       ...,\n",
       "       [0.85119034],\n",
       "       [0.84685057],\n",
       "       [0.85082437]])"
      ]
     },
     "execution_count": 4,
     "metadata": {},
     "output_type": "execute_result"
    }
   ],
   "source": [
    "df_scaled"
   ]
  },
  {
   "cell_type": "code",
   "execution_count": 5,
   "metadata": {},
   "outputs": [],
   "source": [
    "import numpy as np\n",
    "\n",
    "def train_test_split(data, train_ratio, seq_len):\n",
    "    X = []\n",
    "    y = []\n",
    "    for i in range(seq_len, len(data)):\n",
    "        X.append(data[i-seq_len:i])\n",
    "        y.append(data[i])\n",
    "    split = int(len(data) * train_ratio)\n",
    "    X_train = np.array(X[:split])\n",
    "    X_test = np.array(X[split:])\n",
    "    y_train = np.array(y[:split])\n",
    "    y_test = np.array(y[split:])\n",
    "\n",
    "    return X_train, X_test, y_train, y_test"
   ]
  },
  {
   "cell_type": "code",
   "execution_count": 6,
   "metadata": {},
   "outputs": [],
   "source": [
    "X_train, X_test, y_train, y_test = train_test_split(df_scaled, 0.9, 20)"
   ]
  },
  {
   "cell_type": "code",
   "execution_count": 7,
   "metadata": {},
   "outputs": [
    {
     "name": "stdout",
     "output_type": "stream",
     "text": [
      "X_train shape: (3229, 20, 1)\n",
      "X_test shape: (339, 20, 1)\n",
      "y_train shape: (3229, 1)\n",
      "y_test shape: (339, 1)\n"
     ]
    }
   ],
   "source": [
    "print('X_train shape:', X_train.shape)\n",
    "print('X_test shape:', X_test.shape)\n",
    "print('y_train shape:', y_train.shape)\n",
    "print('y_test shape:', y_test.shape)"
   ]
  },
  {
   "cell_type": "code",
   "execution_count": 8,
   "metadata": {},
   "outputs": [],
   "source": [
    "import torch\n",
    "\n",
    "X_train = torch.from_numpy(X_train).type(torch.Tensor)\n",
    "X_test = torch.from_numpy(X_test).type(torch.Tensor)\n",
    "y_train = torch.from_numpy(y_train).type(torch.Tensor)\n",
    "y_test = torch.from_numpy(y_test).type(torch.Tensor)"
   ]
  },
  {
   "cell_type": "code",
   "execution_count": 9,
   "metadata": {},
   "outputs": [
    {
     "name": "stdout",
     "output_type": "stream",
     "text": [
      "X_train shape: torch.Size([3229, 20, 1])\n",
      "X_test shape: torch.Size([339, 20, 1])\n",
      "y_train shape: torch.Size([3229, 1])\n",
      "y_test shape: torch.Size([339, 1])\n"
     ]
    }
   ],
   "source": [
    "print('X_train shape:', X_train.shape)\n",
    "print('X_test shape:', X_test.shape)\n",
    "print('y_train shape:', y_train.shape)\n",
    "print('y_test shape:', y_test.shape)"
   ]
  },
  {
   "cell_type": "code",
   "execution_count": 10,
   "metadata": {},
   "outputs": [],
   "source": [
    "class LSTM(torch.nn.Module):\n",
    "    def __init__(self, input_dim, hidden_dim, num_layers, output_dim):\n",
    "        super(LSTM, self).__init__()\n",
    "        self.hidden_dim = hidden_dim\n",
    "        self.num_layers = num_layers\n",
    "        self.lstm = torch.nn.LSTM(input_dim, hidden_dim, num_layers, batch_first=True)\n",
    "        self.fc = torch.nn.Linear(hidden_dim, output_dim)\n",
    "\n",
    "    def forward(self, x):\n",
    "        h0 = torch.zeros(self.num_layers, x.size(0), self.hidden_dim).requires_grad_()\n",
    "        c0 = torch.zeros(self.num_layers, x.size(0), self.hidden_dim).requires_grad_()\n",
    "        out, (hn, cn) = self.lstm(x, (h0.detach(), c0.detach())) #2\n",
    "        out = self.fc(out[:, -1, :]) \n",
    "        return out"
   ]
  },
  {
   "cell_type": "code",
   "execution_count": 11,
   "metadata": {},
   "outputs": [],
   "source": [
    "input_dim = 1\n",
    "hidden_dim = 32\n",
    "num_layers = 2\n",
    "output_dim = 1\n",
    "learning_rate = 0.01\n",
    "num_epochs = 200"
   ]
  },
  {
   "cell_type": "code",
   "execution_count": 12,
   "metadata": {},
   "outputs": [],
   "source": [
    "model = LSTM(input_dim, hidden_dim, num_layers, output_dim)\n",
    "loss = torch.nn.MSELoss()\n",
    "optimizer = torch.optim.Adam(model.parameters(), lr=learning_rate)"
   ]
  },
  {
   "cell_type": "code",
   "execution_count": 13,
   "metadata": {},
   "outputs": [
    {
     "name": "stdout",
     "output_type": "stream",
     "text": [
      "Epoch 1 - MSE: 0.09399246424436569\n",
      "Epoch 2 - MSE: 0.06320139020681381\n",
      "Epoch 3 - MSE: 0.06561481952667236\n",
      "Epoch 4 - MSE: 0.06027291715145111\n",
      "Epoch 5 - MSE: 0.054234448820352554\n",
      "Epoch 6 - MSE: 0.05187854915857315\n",
      "Epoch 7 - MSE: 0.0497320182621479\n",
      "Epoch 8 - MSE: 0.044536761939525604\n",
      "Epoch 9 - MSE: 0.034488238394260406\n",
      "Epoch 10 - MSE: 0.022088048979640007\n",
      "Epoch 11 - MSE: 0.017511265352368355\n",
      "Epoch 12 - MSE: 0.003966846037656069\n",
      "Epoch 13 - MSE: 0.004500367678701878\n",
      "Epoch 14 - MSE: 0.012860879302024841\n",
      "Epoch 15 - MSE: 0.010120289400219917\n",
      "Epoch 16 - MSE: 0.0058197216130793095\n",
      "Epoch 17 - MSE: 0.0019702594727277756\n",
      "Epoch 18 - MSE: 0.0012825242010876536\n",
      "Epoch 19 - MSE: 0.0029890728183090687\n",
      "Epoch 20 - MSE: 0.004570282530039549\n",
      "Epoch 21 - MSE: 0.005109414458274841\n",
      "Epoch 22 - MSE: 0.004696182440966368\n",
      "Epoch 23 - MSE: 0.0036530420184135437\n",
      "Epoch 24 - MSE: 0.0023985637817531824\n",
      "Epoch 25 - MSE: 0.001453037024475634\n",
      "Epoch 26 - MSE: 0.0011858687503263354\n",
      "Epoch 27 - MSE: 0.001540446886792779\n",
      "Epoch 28 - MSE: 0.0021287882700562477\n",
      "Epoch 29 - MSE: 0.0025558131746947765\n",
      "Epoch 30 - MSE: 0.0026028393767774105\n",
      "Epoch 31 - MSE: 0.002252084668725729\n",
      "Epoch 32 - MSE: 0.0016818898729979992\n",
      "Epoch 33 - MSE: 0.001163708046078682\n",
      "Epoch 34 - MSE: 0.0009035075199790299\n",
      "Epoch 35 - MSE: 0.000953933980781585\n",
      "Epoch 36 - MSE: 0.0011998950503766537\n",
      "Epoch 37 - MSE: 0.0014315375592559576\n",
      "Epoch 38 - MSE: 0.0014920029789209366\n",
      "Epoch 39 - MSE: 0.001356803928501904\n",
      "Epoch 40 - MSE: 0.0010954296449199319\n",
      "Epoch 41 - MSE: 0.0008260606555268168\n",
      "Epoch 42 - MSE: 0.0006771720945835114\n",
      "Epoch 43 - MSE: 0.0006958168232813478\n",
      "Epoch 44 - MSE: 0.0008007529540918767\n",
      "Epoch 45 - MSE: 0.0008855263004079461\n",
      "Epoch 46 - MSE: 0.0008940289844758809\n",
      "Epoch 47 - MSE: 0.0007997810607776046\n",
      "Epoch 48 - MSE: 0.000642895873170346\n",
      "Epoch 49 - MSE: 0.00052581139607355\n",
      "Epoch 50 - MSE: 0.0004968342836946249\n",
      "Epoch 51 - MSE: 0.0005239489837549627\n",
      "Epoch 52 - MSE: 0.0005689733661711216\n",
      "Epoch 53 - MSE: 0.0005917681846767664\n",
      "Epoch 54 - MSE: 0.0005537211545743048\n",
      "Epoch 55 - MSE: 0.00047240909771062434\n",
      "Epoch 56 - MSE: 0.00040452563553117216\n",
      "Epoch 57 - MSE: 0.0003750431351363659\n",
      "Epoch 58 - MSE: 0.0003797727113123983\n",
      "Epoch 59 - MSE: 0.00040597483166493475\n",
      "Epoch 60 - MSE: 0.0004160820390097797\n",
      "Epoch 61 - MSE: 0.0003878568240907043\n",
      "Epoch 62 - MSE: 0.0003447940107434988\n",
      "Epoch 63 - MSE: 0.0003108273376710713\n",
      "Epoch 64 - MSE: 0.0002962346188724041\n",
      "Epoch 65 - MSE: 0.00030470205820165575\n",
      "Epoch 66 - MSE: 0.0003166616370435804\n",
      "Epoch 67 - MSE: 0.00031129372655414045\n",
      "Epoch 68 - MSE: 0.0002914386277552694\n",
      "Epoch 69 - MSE: 0.0002675871946848929\n",
      "Epoch 70 - MSE: 0.00025081296917051077\n",
      "Epoch 71 - MSE: 0.0002498840040061623\n",
      "Epoch 72 - MSE: 0.0002560750872362405\n",
      "Epoch 73 - MSE: 0.00025601740344427526\n",
      "Epoch 74 - MSE: 0.0002471237676218152\n",
      "Epoch 75 - MSE: 0.00023223680909723043\n",
      "Epoch 76 - MSE: 0.00022026417718734592\n",
      "Epoch 77 - MSE: 0.00021762633696198463\n",
      "Epoch 78 - MSE: 0.00021948236098978668\n",
      "Epoch 79 - MSE: 0.00021961022866889834\n",
      "Epoch 80 - MSE: 0.00021461241703946143\n",
      "Epoch 81 - MSE: 0.0002052683848887682\n",
      "Epoch 82 - MSE: 0.0001977814972633496\n",
      "Epoch 83 - MSE: 0.00019510842685122043\n",
      "Epoch 84 - MSE: 0.00019525080278981477\n",
      "Epoch 85 - MSE: 0.00019491961575113237\n",
      "Epoch 86 - MSE: 0.00019098944903817028\n",
      "Epoch 87 - MSE: 0.00018500954320188612\n",
      "Epoch 88 - MSE: 0.00018046647892333567\n",
      "Epoch 89 - MSE: 0.00017843891691882163\n",
      "Epoch 90 - MSE: 0.00017815016326494515\n",
      "Epoch 91 - MSE: 0.0001769157825037837\n",
      "Epoch 92 - MSE: 0.00017364759696647525\n",
      "Epoch 93 - MSE: 0.00016981664521154016\n",
      "Epoch 94 - MSE: 0.00016687535389792174\n",
      "Epoch 95 - MSE: 0.0001656428794376552\n",
      "Epoch 96 - MSE: 0.00016492947179358453\n",
      "Epoch 97 - MSE: 0.00016325671458616853\n",
      "Epoch 98 - MSE: 0.00016069281264208257\n",
      "Epoch 99 - MSE: 0.0001579997333465144\n",
      "Epoch 100 - MSE: 0.0001562771649332717\n",
      "Epoch 101 - MSE: 0.00015532434917986393\n",
      "Epoch 102 - MSE: 0.0001542262762086466\n",
      "Epoch 103 - MSE: 0.00015256364713422954\n",
      "Epoch 104 - MSE: 0.00015047733904793859\n",
      "Epoch 105 - MSE: 0.00014878736692480743\n",
      "Epoch 106 - MSE: 0.0001476660108892247\n",
      "Epoch 107 - MSE: 0.00014673844270873815\n",
      "Epoch 108 - MSE: 0.0001455467863706872\n",
      "Epoch 109 - MSE: 0.0001439758634660393\n",
      "Epoch 110 - MSE: 0.0001425118971383199\n",
      "Epoch 111 - MSE: 0.00014137169637251645\n",
      "Epoch 112 - MSE: 0.00014049610763322562\n",
      "Epoch 113 - MSE: 0.0001395200815750286\n",
      "Epoch 114 - MSE: 0.00013832161494065076\n",
      "Epoch 115 - MSE: 0.00013711290375795215\n",
      "Epoch 116 - MSE: 0.00013608731387648731\n",
      "Epoch 117 - MSE: 0.00013527838746085763\n",
      "Epoch 118 - MSE: 0.0001344373740721494\n",
      "Epoch 119 - MSE: 0.00013348084758035839\n",
      "Epoch 120 - MSE: 0.0001324711338384077\n",
      "Epoch 121 - MSE: 0.00013158954971004277\n",
      "Epoch 122 - MSE: 0.00013083980593364686\n",
      "Epoch 123 - MSE: 0.0001301047159358859\n",
      "Epoch 124 - MSE: 0.00012929848162457347\n",
      "Epoch 125 - MSE: 0.00012846349272876978\n",
      "Epoch 126 - MSE: 0.00012771098408848047\n",
      "Epoch 127 - MSE: 0.00012704243999905884\n",
      "Epoch 128 - MSE: 0.0001263929152628407\n",
      "Epoch 129 - MSE: 0.0001256932009709999\n",
      "Epoch 130 - MSE: 0.00012499057629611343\n",
      "Epoch 131 - MSE: 0.0001243354199687019\n",
      "Epoch 132 - MSE: 0.00012374397192616016\n",
      "Epoch 133 - MSE: 0.0001231546193594113\n",
      "Epoch 134 - MSE: 0.00012254658213350922\n",
      "Epoch 135 - MSE: 0.00012193748261779547\n",
      "Epoch 136 - MSE: 0.00012137219891883433\n",
      "Epoch 137 - MSE: 0.00012083914771210402\n",
      "Epoch 138 - MSE: 0.00012031092046527192\n",
      "Epoch 139 - MSE: 0.00011976870155194774\n",
      "Epoch 140 - MSE: 0.00011923926649615169\n",
      "Epoch 141 - MSE: 0.00011873812763951719\n",
      "Epoch 142 - MSE: 0.00011826000263681635\n",
      "Epoch 143 - MSE: 0.00011777964391512796\n",
      "Epoch 144 - MSE: 0.00011729887046385556\n",
      "Epoch 145 - MSE: 0.0001168308372143656\n",
      "Epoch 146 - MSE: 0.00011638639989541844\n",
      "Epoch 147 - MSE: 0.0001159519306384027\n",
      "Epoch 148 - MSE: 0.00011551846546353772\n",
      "Epoch 149 - MSE: 0.00011508842726470903\n",
      "Epoch 150 - MSE: 0.0001146738140960224\n",
      "Epoch 151 - MSE: 0.00011427376011852175\n",
      "Epoch 152 - MSE: 0.00011387966515030712\n",
      "Epoch 153 - MSE: 0.00011348759289830923\n",
      "Epoch 154 - MSE: 0.0001131032986450009\n",
      "Epoch 155 - MSE: 0.0001127319410443306\n",
      "Epoch 156 - MSE: 0.00011236930004088208\n",
      "Epoch 157 - MSE: 0.00011201066081412137\n",
      "Epoch 158 - MSE: 0.0001116560451919213\n",
      "Epoch 159 - MSE: 0.0001113107064156793\n",
      "Epoch 160 - MSE: 0.00011097433161921799\n",
      "Epoch 161 - MSE: 0.00011064345017075539\n",
      "Epoch 162 - MSE: 0.00011031598114641383\n",
      "Epoch 163 - MSE: 0.00010999429650837556\n",
      "Epoch 164 - MSE: 0.00010968056449200958\n",
      "Epoch 165 - MSE: 0.00010937252955045551\n",
      "Epoch 166 - MSE: 0.00010906829265877604\n",
      "Epoch 167 - MSE: 0.00010876817395910621\n",
      "Epoch 168 - MSE: 0.0001084741234080866\n",
      "Epoch 169 - MSE: 0.00010818562441272661\n",
      "Epoch 170 - MSE: 0.00010790082887979224\n",
      "Epoch 171 - MSE: 0.00010761951125459746\n",
      "Epoch 172 - MSE: 0.00010734261013567448\n",
      "Epoch 173 - MSE: 0.00010707056935643777\n",
      "Epoch 174 - MSE: 0.00010680228297132999\n",
      "Epoch 175 - MSE: 0.00010653695062501356\n",
      "Epoch 176 - MSE: 0.00010627521260175854\n",
      "Epoch 177 - MSE: 0.00010601744725136086\n",
      "Epoch 178 - MSE: 0.00010576319618849084\n",
      "Epoch 179 - MSE: 0.00010551162995398045\n",
      "Epoch 180 - MSE: 0.00010526296682655811\n",
      "Epoch 181 - MSE: 0.00010501767246751115\n",
      "Epoch 182 - MSE: 0.00010477541945874691\n",
      "Epoch 183 - MSE: 0.00010453579307068139\n",
      "Epoch 184 - MSE: 0.00010429873509565368\n",
      "Epoch 185 - MSE: 0.00010406450746813789\n",
      "Epoch 186 - MSE: 0.00010383306653238833\n",
      "Epoch 187 - MSE: 0.00010360404121456668\n",
      "Epoch 188 - MSE: 0.00010337724961573258\n",
      "Epoch 189 - MSE: 0.00010315294639440253\n",
      "Epoch 190 - MSE: 0.00010293118248227984\n",
      "Epoch 191 - MSE: 0.00010271163773722947\n",
      "Epoch 192 - MSE: 0.00010249427577946335\n",
      "Epoch 193 - MSE: 0.00010227919847238809\n",
      "Epoch 194 - MSE: 0.000102066362160258\n",
      "Epoch 195 - MSE: 0.0001018556285998784\n",
      "Epoch 196 - MSE: 0.00010164687409996986\n",
      "Epoch 197 - MSE: 0.00010144022235181183\n",
      "Epoch 198 - MSE: 0.00010123561514774337\n",
      "Epoch 199 - MSE: 0.00010103303793584928\n",
      "Epoch 200 - MSE: 0.00010083232336910442\n"
     ]
    }
   ],
   "source": [
    "hist = np.zeros(num_epochs)\n",
    "\n",
    "for t in range(num_epochs):\n",
    "    y_train_pred = model(X_train)\n",
    "\n",
    "    mse = loss(y_train_pred, y_train)\n",
    "    print(\"Epoch\", t+1, \"- MSE:\", mse.item())\n",
    "    hist[t] = mse.item()\n",
    "\n",
    "    optimizer.zero_grad()\n",
    "    mse.backward()\n",
    "    optimizer.step()"
   ]
  },
  {
   "cell_type": "code",
   "execution_count": 14,
   "metadata": {},
   "outputs": [],
   "source": [
    "import pandas as pd\n",
    "import matplotlib.pyplot as plt\n",
    "\n",
    "actual = pd.DataFrame(scaler.inverse_transform(y_train.detach().numpy()))\n",
    "predict = pd.DataFrame(scaler.inverse_transform(y_train_pred.detach().numpy()))"
   ]
  },
  {
   "cell_type": "code",
   "execution_count": 15,
   "metadata": {},
   "outputs": [
    {
     "data": {
      "text/plain": [
       "<matplotlib.legend.Legend at 0x1b9cc33dd50>"
      ]
     },
     "execution_count": 15,
     "metadata": {},
     "output_type": "execute_result"
    },
    {
     "data": {
      "image/png": "[encoded data removed]",
      "text/plain": [
       "<Figure size 640x480 with 1 Axes>"
      ]
     },
     "metadata": {},
     "output_type": "display_data"
    }
   ],
   "source": [
    "plt.plot(actual.index, actual[0], label='Actual')\n",
    "plt.plot(predict.index, predict[0], label='Prediction')\n",
    "plt.axis('off')\n",
    "plt.legend()"
   ]
  },
  {
   "cell_type": "code",
   "execution_count": 16,
   "metadata": {},
   "outputs": [
    {
     "data": {
      "text/plain": [
       "Text(0, 0.5, 'Error')"
      ]
     },
     "execution_count": 16,
     "metadata": {},
     "output_type": "execute_result"
    },
    {
     "data": {
      "image/png": "[encoded data removed]",
      "text/plain": [
       "<Figure size 640x480 with 1 Axes>"
      ]
     },
     "metadata": {},
     "output_type": "display_data"
    }
   ],
   "source": [
    "plt.plot(hist)\n",
    "plt.title('MSE')\n",
    "plt.xlabel('Epoch')\n",
    "plt.ylabel('Error')"
   ]
  },
  {
   "cell_type": "code",
   "execution_count": 17,
   "metadata": {},
   "outputs": [],
   "source": [
    "y_test_pred = model(X_test)\n",
    "\n",
    "train_actual = pd.DataFrame(scaler.inverse_transform(y_train.detach().numpy()))\n",
    "train_predict = pd.DataFrame(scaler.inverse_transform(y_train_pred.detach().numpy()))\n",
    "test_actual = pd.DataFrame(scaler.inverse_transform(y_test.detach().numpy()))\n",
    "test_predict = pd.DataFrame(scaler.inverse_transform(y_test_pred.detach().numpy()))"
   ]
  },
  {
   "cell_type": "code",
   "execution_count": 18,
   "metadata": {},
   "outputs": [],
   "source": [
    "from sklearn.metrics import mean_squared_error\n",
    "import math"
   ]
  },
  {
   "cell_type": "code",
   "execution_count": 19,
   "metadata": {},
   "outputs": [
    {
     "name": "stdout",
     "output_type": "stream",
     "text": [
      "Train MSE: 1.9204535461226189\n",
      "Test MSE: 3.940639152773703\n"
     ]
    }
   ],
   "source": [
    "print('Train MSE:', math.sqrt(mean_squared_error(train_actual.loc[:,0], train_predict.loc[:,0])))\n",
    "print('Test MSE:', math.sqrt(mean_squared_error(test_actual.loc[:,0], test_predict.loc[:,0])))"
   ]
  }
 ],
 "metadata": {
  "kernelspec": {
   "display_name": "env",
   "language": "python",
   "name": "python3"
  },
  "language_info": {
   "codemirror_mode": {
    "name": "ipython",
    "version": 3
   },
   "file_extension": ".py",
   "mimetype": "text/x-python",
   "name": "python",
   "nbconvert_exporter": "python",
   "pygments_lexer": "ipython3",
   "version": "3.11.4"
  }
 },
 "nbformat": 4,
 "nbformat_minor": 2
}
